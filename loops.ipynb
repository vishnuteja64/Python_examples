{
 "cells": [
  {
   "cell_type": "markdown",
   "id": "799b6933",
   "metadata": {},
   "source": [
    "Loops in Python (for Agent Workflows)\n",
    "\n",
    "### 🤖 Why Loops Matter in GenAI & Agents:\n",
    "Loops help agents:\n",
    "- Repeat tasks (e.g., tool retries)\n",
    "- Scan through documents or messages\n",
    "- Process multi-step workflows\n",
    "\n",
    "Topics Covered:\n",
    "1. `for` loop\n",
    "2. `while` loop\n",
    "3. `range()`\n",
    "4. `break`, `continue`\n",
    "5. `else` in loops"
   ]
  },
  {
   "cell_type": "code",
   "execution_count": 10,
   "id": "a66432c4",
   "metadata": {},
   "outputs": [
    {
     "name": "stdout",
     "output_type": "stream",
     "text": [
      "Activating tool: search\n",
      "Activating tool: summarize\n",
      "Activating tool: translate\n"
     ]
    }
   ],
   "source": [
    "#1. `for` loop\n",
    "#Used when you want to **iterate over a sequence** – like messages, logs, token lists.\n",
    "#Example 1: Loop over list of tools\n",
    "\n",
    "agent_tools = [\"search\", \"summarize\", \"translate\"]\n",
    "for tool in agent_tools:\n",
    "    print(\"Activating tool:\", tool)"
   ]
  },
  {
   "cell_type": "code",
   "execution_count": 11,
   "id": "0fc78c9c",
   "metadata": {},
   "outputs": [
    {
     "name": "stdout",
     "output_type": "stream",
     "text": [
      "a\n",
      "g\n",
      "e\n",
      "n\n",
      "t\n"
     ]
    }
   ],
   "source": [
    "# Example 2: Loop through characters\n",
    "text = \"agent\"\n",
    "for char in text:\n",
    "    print(char)"
   ]
  },
  {
   "cell_type": "code",
   "execution_count": 12,
   "id": "719ea7d2",
   "metadata": {},
   "outputs": [
    {
     "name": "stdout",
     "output_type": "stream",
     "text": [
      "Retry 1\n",
      "Retry 2\n",
      "Retry 3\n"
     ]
    }
   ],
   "source": [
    "# Example 3: Loop with range()\n",
    "for i in range(3):\n",
    "    print(\"Retry\", i + 1)"
   ]
  },
  {
   "cell_type": "code",
   "execution_count": 13,
   "id": "98427fc4",
   "metadata": {},
   "outputs": [
    {
     "name": "stdout",
     "output_type": "stream",
     "text": [
      "User said: hi\n",
      "User said: can you help?\n",
      "User said: thanks\n",
      "LOAD\n",
      "RUN\n",
      "EXIT\n"
     ]
    }
   ],
   "source": [
    "# Example 4: Loop over user messages\n",
    "messages = [\"hi\", \"can you help?\", \"thanks\"]\n",
    "for msg in messages:\n",
    "    print(f\"User said: {msg}\")\n",
    "\n",
    "# Example 5: Uppercasing commands\n",
    "commands = [\"load\", \"run\", \"exit\"]\n",
    "for cmd in commands:\n",
    "    print(cmd.upper())\n"
   ]
  },
  {
   "cell_type": "code",
   "execution_count": 14,
   "id": "1fb50c1f",
   "metadata": {},
   "outputs": [
    {
     "name": "stdout",
     "output_type": "stream",
     "text": [
      "Model 1: GPT\n",
      "Model 2: Claude\n",
      "Model 3: Gemini\n"
     ]
    }
   ],
   "source": [
    "# Example 6: Processing indexed list\n",
    "models = [\"GPT\", \"Claude\", \"Gemini\"]\n",
    "for i in range(len(models)):\n",
    "    print(f\"Model {i+1}: {models[i]}\")"
   ]
  },
  {
   "cell_type": "code",
   "execution_count": 15,
   "id": "22e246d7",
   "metadata": {},
   "outputs": [
    {
     "name": "stdout",
     "output_type": "stream",
     "text": [
      "text → summary\n",
      "text → caption\n",
      "image → summary\n",
      "image → caption\n"
     ]
    }
   ],
   "source": [
    "# Example 7: Nested for loop for combinations\n",
    "inputs = [\"text\", \"image\"]\n",
    "outputs = [\"summary\", \"caption\"]\n",
    "for i in inputs:\n",
    "    for o in outputs:\n",
    "        print(f\"{i} → {o}\")"
   ]
  },
  {
   "cell_type": "code",
   "execution_count": 16,
   "id": "3259055d",
   "metadata": {},
   "outputs": [
    {
     "name": "stdout",
     "output_type": "stream",
     "text": [
      "Agent 0: Neo\n",
      "Agent 1: Trinity\n",
      "Agent 2: Morpheus\n",
      "High value: 7\n",
      "High value: 10\n"
     ]
    }
   ],
   "source": [
    "# Example 8: Loop with enumerate()\n",
    "agents = [\"Neo\", \"Trinity\", \"Morpheus\"]\n",
    "for idx, name in enumerate(agents):\n",
    "    print(f\"Agent {idx}: {name}\")\n",
    "\n",
    "# Example 9: Loop filtering with if\n",
    "values = [1, 4, 7, 10]\n",
    "for v in values:\n",
    "    if v > 5:\n",
    "        print(\"High value:\", v)"
   ]
  },
  {
   "cell_type": "code",
   "execution_count": 17,
   "id": "90df5d19",
   "metadata": {},
   "outputs": [
    {
     "name": "stdout",
     "output_type": "stream",
     "text": [
      "['Chat', 'Tools', 'Plugins']\n"
     ]
    }
   ],
   "source": [
    "# Example 10: Loop and build list\n",
    "features = [\"chat\", \"tools\", \"plugins\"]\n",
    "capitalized = []\n",
    "for f in features:\n",
    "    capitalized.append(f.capitalize())\n",
    "print(capitalized)"
   ]
  },
  {
   "cell_type": "markdown",
   "id": "9d74359d",
   "metadata": {},
   "source": [
    "2. `while` loop\n",
    "\n",
    "Use when the number of iterations is **not known** in advance."
   ]
  },
  {
   "cell_type": "code",
   "execution_count": 18,
   "id": "345f482d",
   "metadata": {},
   "outputs": [
    {
     "name": "stdout",
     "output_type": "stream",
     "text": [
      "Trying tool...\n",
      "Trying tool...\n",
      "Trying tool...\n"
     ]
    }
   ],
   "source": [
    "# Example 1: Basic while loop\n",
    "attempts = 0\n",
    "while attempts < 3:\n",
    "    print(\"Trying tool...\")\n",
    "    attempts += 1"
   ]
  },
  {
   "cell_type": "code",
   "execution_count": 22,
   "id": "361916b9",
   "metadata": {},
   "outputs": [
    {
     "name": "stdout",
     "output_type": "stream",
     "text": [
      "Waiting for yes...\n",
      "Waiting for yes...\n",
      "Waiting for yes...\n",
      "Waiting for yes...\n",
      "Waiting for yes...\n"
     ]
    }
   ],
   "source": [
    "# Example 2: Wait for user response match\n",
    "response = \"\"\n",
    "tries = 0\n",
    "while response != \"yes\" and tries < 5:\n",
    "    print(\"Waiting for yes...\")\n",
    "    response = \"yes\" if tries == 4 else \"no\"\n",
    "    tries += 1"
   ]
  },
  {
   "cell_type": "code",
   "execution_count": 23,
   "id": "ae4c50cc",
   "metadata": {},
   "outputs": [
    {
     "name": "stdout",
     "output_type": "stream",
     "text": [
      "Timer: 5\n",
      "Timer: 4\n",
      "Timer: 3\n",
      "Timer: 2\n",
      "Timer: 1\n"
     ]
    }
   ],
   "source": [
    "# Example 3: Countdown\n",
    "count = 5\n",
    "while count > 0:\n",
    "    print(\"Timer:\", count)\n",
    "    count -= 1"
   ]
  },
  {
   "cell_type": "code",
   "execution_count": 24,
   "id": "bce3d825",
   "metadata": {},
   "outputs": [
    {
     "name": "stdout",
     "output_type": "stream",
     "text": [
      "Trying...\n",
      "Trying...\n",
      "Trying...\n"
     ]
    }
   ],
   "source": [
    "# Example 4: Simulate retry mechanism\n",
    "success = False\n",
    "attempt = 0\n",
    "while not success:\n",
    "    print(\"Trying...\")\n",
    "    if attempt == 2:\n",
    "        success = True\n",
    "    attempt += 1\n"
   ]
  },
  {
   "cell_type": "code",
   "execution_count": 25,
   "id": "786ebdcf",
   "metadata": {},
   "outputs": [
    {
     "name": "stdout",
     "output_type": "stream",
     "text": [
      "Step 0\n",
      "Step 1\n",
      "Step 2\n",
      "Error found at 2\n"
     ]
    }
   ],
   "source": [
    "# Example 5: While with break condition\n",
    "steps = 0\n",
    "while True:\n",
    "    print(\"Step\", steps)\n",
    "    steps += 1\n",
    "    if steps >= 3:\n",
    "        break\n",
    "\n",
    "# Example 6: Use loop to check list until found\n",
    "log = [\"ok\", \"ok\", \"error\"]\n",
    "i = 0\n",
    "while i < len(log):\n",
    "    if log[i] == \"error\":\n",
    "        print(\"Error found at\", i)\n",
    "        break\n",
    "    i += 1"
   ]
  },
  {
   "cell_type": "code",
   "execution_count": 27,
   "id": "7e5dd5d5",
   "metadata": {},
   "outputs": [
    {
     "name": "stdout",
     "output_type": "stream",
     "text": [
      "Still processing...\n",
      "Still processing...\n",
      "Still processing...\n",
      "Checking...\n",
      "Done checking.\n",
      "Checking...\n",
      "Checking...\n",
      "Checking...\n",
      "Checking...\n"
     ]
    }
   ],
   "source": [
    "# Example 7: Loop with sleep delay (mock)\n",
    "status = \"processing\"\n",
    "loop_count = 0\n",
    "while status == \"processing\" and loop_count < 3:\n",
    "    print(\"Still processing...\")\n",
    "    loop_count += 1\n",
    "\n",
    "# Example 8: Loop with continue\n",
    "while True:\n",
    "    print(\"Checking...\")\n",
    "    if loop_count >= 3:\n",
    "        print(\"Done checking.\")\n",
    "        break\n",
    "    loop_count += 1\n",
    "    if loop_count % 2 == 0:\n",
    "        continue  # Skip even counts\n",
    "    print(\"Odd count:\", loop_count)\n",
    "\n",
    "\n",
    "\n",
    "# Example 9: Flag driven condition\n",
    "flag = False\n",
    "counter = 0\n",
    "while not flag:\n",
    "    print(\"Checking...\")\n",
    "    counter += 1\n",
    "    if counter == 4:\n",
    "        flag = True"
   ]
  },
  {
   "cell_type": "code",
   "execution_count": 28,
   "id": "8cd22f0b",
   "metadata": {},
   "outputs": [
    {
     "name": "stdout",
     "output_type": "stream",
     "text": [
      "Running 0\n",
      "Running 1\n",
      "Running 2\n",
      "Completed successfully\n"
     ]
    }
   ],
   "source": [
    "# Example 10: While with else\n",
    "j = 0\n",
    "while j < 3:\n",
    "    print(\"Running\", j)\n",
    "    j += 1\n",
    "else:\n",
    "    print(\"Completed successfully\")"
   ]
  },
  {
   "cell_type": "code",
   "execution_count": 29,
   "id": "823d32a5",
   "metadata": {},
   "outputs": [
    {
     "name": "stdout",
     "output_type": "stream",
     "text": [
      "Processing: load\n",
      "Processing: run\n",
      "Stopping...\n"
     ]
    }
   ],
   "source": [
    "#3. break / continue\n",
    "\n",
    "# Example 1: break on stop signal\n",
    "for msg in [\"load\", \"run\", \"stop\", \"exit\"]:\n",
    "    if msg == \"stop\":\n",
    "        print(\"Stopping...\")\n",
    "        break\n",
    "    print(\"Processing:\", msg)"
   ]
  },
  {
   "cell_type": "code",
   "execution_count": null,
   "id": "c1e6fc95",
   "metadata": {},
   "outputs": [
    {
     "name": "stdout",
     "output_type": "stream",
     "text": [
      "Token accepted: token1\n",
      "Token accepted: token2\n"
     ]
    }
   ],
   "source": [
    "# Example 2: continue on invalid token\n",
    "tokens = [\"token1\", \"\", \"token2\"]\n",
    "for tok in tokens:\n",
    "    if not tok:\n",
    "        continue\n",
    "    print(\"Token accepted:\", tok)\n"
   ]
  },
  {
   "cell_type": "code",
   "execution_count": 31,
   "id": "2efd765a",
   "metadata": {},
   "outputs": [
    {
     "name": "stdout",
     "output_type": "stream",
     "text": [
      "Looping 0\n",
      "Looping 1\n",
      "x is: 1\n",
      "x is: 3\n"
     ]
    }
   ],
   "source": [
    "# Example 3: break inside while\n",
    "x = 0\n",
    "while True:\n",
    "    print(\"Looping\", x)\n",
    "    x += 1\n",
    "    if x == 2:\n",
    "        break\n",
    "\n",
    "# Example 4: continue inside while\n",
    "x = 0\n",
    "while x < 3:\n",
    "    x += 1\n",
    "    if x == 2:\n",
    "        continue\n",
    "    print(\"x is:\", x)\n"
   ]
  },
  {
   "cell_type": "code",
   "execution_count": 32,
   "id": "0552a451",
   "metadata": {},
   "outputs": [
    {
     "name": "stdout",
     "output_type": "stream",
     "text": [
      "Action: hi\n",
      "Action: continue\n",
      "Operation canceled\n",
      "Step: init\n",
      "Step: finalize\n"
     ]
    }
   ],
   "source": [
    "# Example 5: break with input match\n",
    "msgs = [\"hi\", \"continue\", \"cancel\"]\n",
    "for m in msgs:\n",
    "    if m == \"cancel\":\n",
    "        print(\"Operation canceled\")\n",
    "        break\n",
    "    print(\"Action:\", m)\n",
    "\n",
    "# Example 6: continue to skip processing\n",
    "steps = [\"init\", \"\", \"finalize\"]\n",
    "for s in steps:\n",
    "    if s == \"\":\n",
    "        continue\n",
    "    print(\"Step:\", s)"
   ]
  },
  {
   "cell_type": "code",
   "execution_count": 33,
   "id": "7b9f8cf3",
   "metadata": {},
   "outputs": [
    {
     "name": "stdout",
     "output_type": "stream",
     "text": [
      "Flag True at 2\n",
      "x 1\n",
      "y 1\n"
     ]
    }
   ],
   "source": [
    "# Example 7: break with flag check\n",
    "flags = [False, False, True]\n",
    "for i, f in enumerate(flags):\n",
    "    if f:\n",
    "        print(\"Flag True at\", i)\n",
    "        break\n",
    "\n",
    "# Example 8: nested loop with break\n",
    "for a in [\"x\", \"y\"]:\n",
    "    for b in [1, 2, 3]:\n",
    "        if b == 2:\n",
    "            break\n",
    "        print(a, b)"
   ]
  },
  {
   "cell_type": "code",
   "execution_count": 34,
   "id": "06ba3f2b",
   "metadata": {},
   "outputs": [
    {
     "name": "stdout",
     "output_type": "stream",
     "text": [
      "Processed: ok\n",
      "Error detected\n",
      "Break condition met\n"
     ]
    }
   ],
   "source": [
    "# Example 9: multiple continue in loop\n",
    "items = [\"ok\", \"skip\", \"error\"]\n",
    "for i in items:\n",
    "    if i == \"skip\":\n",
    "        continue\n",
    "    if i == \"error\":\n",
    "        print(\"Error detected\")\n",
    "        continue\n",
    "    print(\"Processed:\", i)\n",
    "\n",
    "# Example 10: break only if both conditions\n",
    "x, y = 1, 1\n",
    "while x < 5:\n",
    "    if x == 3 and y == 1:\n",
    "        print(\"Break condition met\")\n",
    "        break\n",
    "    x += 1"
   ]
  },
  {
   "cell_type": "code",
   "execution_count": 35,
   "id": "79de5ce8",
   "metadata": {},
   "outputs": [
    {
     "name": "stdout",
     "output_type": "stream",
     "text": [
      "Executing: load\n",
      "Executing: run\n",
      "All done!\n",
      "Command: run\n",
      "Failed at fail\n"
     ]
    }
   ],
   "source": [
    "#4. else with loops\n",
    "\n",
    "# Example 1: for loop with else\n",
    "commands = [\"load\", \"run\"]\n",
    "for cmd in commands:\n",
    "    print(\"Executing:\", cmd)\n",
    "else:\n",
    "    print(\"All done!\")\n",
    "\n",
    "# Example 2: break prevents else\n",
    "cmds = [\"run\", \"fail\"]\n",
    "for c in cmds:\n",
    "    if c == \"fail\":\n",
    "        print(\"Failed at\", c)\n",
    "        break\n",
    "    print(\"Command:\", c)\n",
    "else:\n",
    "    print(\"Completed!\")\n"
   ]
  },
  {
   "cell_type": "code",
   "execution_count": 38,
   "id": "aebd7950",
   "metadata": {},
   "outputs": [
    {
     "name": "stdout",
     "output_type": "stream",
     "text": [
      "n = 0\n",
      "n = 1\n",
      "n = 2\n",
      "n reached 3\n",
      "Loop done (no items)\n"
     ]
    }
   ],
   "source": [
    "# Example 3: while else with condition\n",
    "n = 0\n",
    "while n < 3:\n",
    "    print(\"n =\", n)\n",
    "    n += 1\n",
    "else:\n",
    "    print(\"n reached 3\")\n",
    "\n",
    "# Example 4: else with empty loop\n",
    "for x in []:\n",
    "    print(\"Shouldn't see this\")\n",
    "else:\n",
    "    print(\"Loop done (no items)\")\n",
    "\n"
   ]
  },
  {
   "cell_type": "code",
   "execution_count": 37,
   "id": "0338c2ba",
   "metadata": {},
   "outputs": [
    {
     "name": "stdout",
     "output_type": "stream",
     "text": [
      "Not found\n",
      "All values < 5\n"
     ]
    }
   ],
   "source": [
    "# Example 5: else after search\n",
    "queries = [\"q1\", \"q2\"]\n",
    "for q in queries:\n",
    "    if q == \"q3\":\n",
    "        print(\"Found\")\n",
    "        break\n",
    "else:\n",
    "    print(\"Not found\")\n",
    "\n",
    "# Example 6: else with filter logic\n",
    "values = [1, 2, 3]\n",
    "for v in values:\n",
    "    if v > 5:\n",
    "        break\n",
    "else:\n",
    "    print(\"All values < 5\")"
   ]
  },
  {
   "cell_type": "code",
   "execution_count": 39,
   "id": "50beb43c",
   "metadata": {},
   "outputs": [
    {
     "name": "stdout",
     "output_type": "stream",
     "text": [
      "Try ok\n",
      "Try ok\n",
      "All passed\n",
      "Process a\n",
      "Process b\n",
      "Finalized\n"
     ]
    }
   ],
   "source": [
    "# Example 7: else for all successful attempts\n",
    "attempts = [\"ok\", \"ok\"]\n",
    "for a in attempts:\n",
    "    print(\"Try\", a)\n",
    "else:\n",
    "    print(\"All passed\")\n",
    "\n",
    "# Example 8: combined use with continue\n",
    "data = [\"a\", \"b\"]\n",
    "for d in data:\n",
    "    if d == \"skip\":\n",
    "        continue\n",
    "    print(\"Process\", d)\n",
    "else:\n",
    "    print(\"Finalized\")"
   ]
  },
  {
   "cell_type": "code",
   "execution_count": 40,
   "id": "18693425",
   "metadata": {},
   "outputs": [
    {
     "name": "stdout",
     "output_type": "stream",
     "text": [
      "'z' not found in word\n",
      "Checking 0\n",
      "Checking 1\n",
      "Loop exited cleanly\n"
     ]
    }
   ],
   "source": [
    "# Example 9: using flag inside loop with else\n",
    "found = False\n",
    "for letter in \"agent\":\n",
    "    if letter == \"z\":\n",
    "        found = True\n",
    "        break\n",
    "else:\n",
    "    print(\"'z' not found in word\")\n",
    "\n",
    "# Example 10: while loop with condition + else\n",
    "limit = 0\n",
    "while limit < 2:\n",
    "    print(\"Checking\", limit)\n",
    "    limit += 1\n",
    "else:\n",
    "    print(\"Loop exited cleanly\")"
   ]
  },
  {
   "cell_type": "markdown",
   "id": "4e19ddaf",
   "metadata": {},
   "source": [
    "# 📌 Summary:\n",
    "- Use `for` for known-length iterations\n",
    "- Use `while` when unsure how many times\n",
    "- `break` stops the loop, `continue` skips an iteration\n",
    "- `else` in loop gives post-processing if not interrupted\n",
    "\n",
    "🚀 In GenAI agent workflows, loops automate: retries, batch processing, pipeline steps, etc"
   ]
  }
 ],
 "metadata": {
  "kernelspec": {
   "display_name": "base",
   "language": "python",
   "name": "python3"
  },
  "language_info": {
   "codemirror_mode": {
    "name": "ipython",
    "version": 3
   },
   "file_extension": ".py",
   "mimetype": "text/x-python",
   "name": "python",
   "nbconvert_exporter": "python",
   "pygments_lexer": "ipython3",
   "version": "3.12.7"
  }
 },
 "nbformat": 4,
 "nbformat_minor": 5
}

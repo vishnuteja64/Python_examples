{
 "cells": [
  {
   "cell_type": "markdown",
   "id": "50b0bb49",
   "metadata": {},
   "source": [
    "Functions in Python (Superpower for Modular Agents)\n",
    "\n",
    "### 🎯 Why Functions Matter:\n",
    "- Helps break down agent logic into reusable blocks\n",
    "- Improves testing, maintenance, and composition\n",
    "- Key for calling tools, chaining steps, retry logic\n",
    "\n",
    "Topics Covered:\n",
    "1. Defining functions (`def`)\n",
    "2. Parameters and return values\n",
    "3. Positional, keyword, default arguments\n",
    "4. `*args` and `**kwargs`\n",
    "5. Lambda, map, filter\n",
    "6. Recursion (agent-style retry or tree traversal)"
   ]
  },
  {
   "cell_type": "code",
   "execution_count": 1,
   "id": "6b1ba7f1",
   "metadata": {},
   "outputs": [
    {
     "name": "stdout",
     "output_type": "stream",
     "text": [
      "Hello Agent!\n",
      "Loaded: GPT-4\n",
      "Hello, Neo!\n"
     ]
    }
   ],
   "source": [
    "#1. Defining and Using Functions\n",
    "\n",
    "\n",
    "# Basic function definition\n",
    "def greet():\n",
    "    print(\"Hello Agent!\")\n",
    "# Call it\n",
    "greet()\n",
    "\n",
    "# Function with return\n",
    "def get_model():\n",
    "    return \"GPT-4\"\n",
    "\n",
    "model = get_model()\n",
    "print(\"Loaded:\", model)\n",
    "\n",
    "# Function with parameters\n",
    "def respond(name):\n",
    "    return f\"Hello, {name}!\"\n",
    "\n",
    "print(respond(\"Neo\"))"
   ]
  },
  {
   "cell_type": "code",
   "execution_count": null,
   "id": "1a23397d",
   "metadata": {},
   "outputs": [
    {
     "name": "stdout",
     "output_type": "stream",
     "text": [
      "Activtating tool:search\n"
     ]
    }
   ],
   "source": [
    "# Example 4: Tool usage logger\n",
    "def use_tool(tool):\n",
    "    print(f\"Activtating tool:{tool}\")\n",
    "use_tool(\"search\")"
   ]
  },
  {
   "cell_type": "code",
   "execution_count": 3,
   "id": "a82b50d2",
   "metadata": {},
   "outputs": [
    {
     "name": "stdout",
     "output_type": "stream",
     "text": [
      "Agent Trinity using GPT-3.5\n"
     ]
    }
   ],
   "source": [
    "# Example 5: Agent introduction\n",
    "def intro(agent_name, model):\n",
    "    print(f\"Agent {agent_name} using {model}\")\n",
    "intro(\"Trinity\", \"GPT-3.5\")"
   ]
  },
  {
   "cell_type": "code",
   "execution_count": 6,
   "id": "7987b4f3",
   "metadata": {},
   "outputs": [
    {
     "name": "stdout",
     "output_type": "stream",
     "text": [
      "Hello, Agent!\n",
      "hi welcome to the system\n",
      "hello  welcome to the system\n"
     ]
    }
   ],
   "source": [
    "# Example 6: Default greeting\n",
    "def default_greet(name=\"Agent\"):\n",
    "    return f\"Hello, {name}!\"\n",
    "print(default_greet())\n",
    "\n",
    "def welcome(msg=\"hi\"):\n",
    "    print(msg + \" welcome to the system\" )\n",
    "welcome()\n",
    "welcome(\"hello \")"
   ]
  },
  {
   "cell_type": "code",
   "execution_count": 11,
   "id": "b6239c81",
   "metadata": {},
   "outputs": [
    {
     "name": "stdout",
     "output_type": "stream",
     "text": [
      "AGENT READY!!!  \n",
      "agent ready...  \n",
      "Ready? True\n",
      "Ready? False\n"
     ]
    }
   ],
   "source": [
    "# Example 7: Function chaining\n",
    "def uppercase(text):\n",
    "    return text.upper()\n",
    "def lowercase(text):\n",
    "    return text.lower()\n",
    "def shout(text):\n",
    "    print(uppercase(text) + \"!!!  \")\n",
    "def whisper(text):\n",
    "    print(lowercase(text) + \"...  \")\n",
    "shout(\"agent ready\")\n",
    "whisper(\"agent ready\")\n",
    "\n",
    "# Example 8: Boolean return\n",
    "def is_ready(status):\n",
    "    return status == \"active\"\n",
    "print(\"Ready?\", is_ready(\"active\"))\n",
    "\n",
    "def is_ready(status):\n",
    "    return status == \"active\"\n",
    "print(\"Ready?\", is_ready(\"inactive\"))"
   ]
  },
  {
   "cell_type": "code",
   "execution_count": 12,
   "id": "1570e481",
   "metadata": {},
   "outputs": [
    {
     "name": "stdout",
     "output_type": "stream",
     "text": [
      "['chat', 'summarize', 'search']\n",
      "internal call\n"
     ]
    }
   ],
   "source": [
    "# Example 9: List return\n",
    "def get_tools():\n",
    "    return [\"chat\", \"summarize\", \"search\"]\n",
    "print(get_tools())\n",
    "\n",
    "# Example 10: Nested function call\n",
    "def outer():\n",
    "    def inner():\n",
    "        return \"internal call\"\n",
    "    return inner()\n",
    "print(outer())"
   ]
  },
  {
   "cell_type": "code",
   "execution_count": 13,
   "id": "ca2207c9",
   "metadata": {},
   "outputs": [
    {
     "name": "stdout",
     "output_type": "stream",
     "text": [
      "Sum: 5\n"
     ]
    }
   ],
   "source": [
    "#2. Parameters and Return\n",
    "\n",
    "\n",
    "def add(x, y):\n",
    "    return x + y\n",
    "print(\"Sum:\", add(2, 3))"
   ]
  },
  {
   "cell_type": "code",
   "execution_count": 14,
   "id": "1aebcd0d",
   "metadata": {},
   "outputs": [
    {
     "name": "stdout",
     "output_type": "stream",
     "text": [
      "Text: agent log, Label: general\n",
      "Text: agent log, Label: urgent\n"
     ]
    }
   ],
   "source": [
    "# Example 2: Classification\n",
    "def classify(text, label=\"general\"):\n",
    "    return f\"Text: {text}, Label: {label}\"\n",
    "print(classify(\"agent log\"))\n",
    "print(classify(\"agent log\", label=\"urgent\"))"
   ]
  },
  {
   "cell_type": "code",
   "execution_count": null,
   "id": "51b9f527",
   "metadata": {},
   "outputs": [
    {
     "name": "stdout",
     "output_type": "stream",
     "text": [
      "Neo, you have got a : new message\n"
     ]
    }
   ],
   "source": [
    "# Example 3: Keyword arguments\n",
    "def notify(user,msg):\n",
    "    print(f\"{user}, you have got a : {msg}\")\n",
    "notify(user=\"Neo\", msg=\"new message\")    "
   ]
  },
  {
   "cell_type": "code",
   "execution_count": null,
   "id": "812c4780",
   "metadata": {},
   "outputs": [
    {
     "name": "stdout",
     "output_type": "stream",
     "text": [
      "Processed: data\n",
      "Debugging mode ON\n",
      "Processed: data\n"
     ]
    }
   ],
   "source": [
    "# Example 4: Optional flag\n",
    "def process(input, debug=False):\n",
    "    if debug:\n",
    "        print(\"Debugging mode ON\")\n",
    "    return f\"Processed: {input}\"\n",
    "print(process(\"data\", debug=False))\n",
    "print(process(\"data\", debug=True))"
   ]
  },
  {
   "cell_type": "code",
   "execution_count": null,
   "id": "aa0a9f17",
   "metadata": {},
   "outputs": [
    {
     "name": "stdout",
     "output_type": "stream",
     "text": [
      "Accuracy: 0.85 Precision: 0.78\n"
     ]
    }
   ],
   "source": [
    "# Example 5: Multiple returns\n",
    "def get_metrics():\n",
    "    return(0.85, 0.78)\n",
    "acc, precision = get_metrics()\n",
    "print(\"Accuracy:\", acc, \"Precision:\", precision)"
   ]
  },
  {
   "cell_type": "code",
   "execution_count": 21,
   "id": "4ffb5880",
   "metadata": {},
   "outputs": [
    {
     "name": "stdout",
     "output_type": "stream",
     "text": [
      "42\n"
     ]
    }
   ],
   "source": [
    "# Example 6: Type conversion\n",
    "def parse_int(x):\n",
    "    return int(x)\n",
    "print(parse_int(\"42\"))"
   ]
  },
  {
   "cell_type": "code",
   "execution_count": 23,
   "id": "77e83011",
   "metadata": {},
   "outputs": [
    {
     "name": "stdout",
     "output_type": "stream",
     "text": [
      "invalid\n",
      "valid\n"
     ]
    }
   ],
   "source": [
    "def validate(user):\n",
    "    if not user:\n",
    "        return \"invalid\"\n",
    "    return \"valid\"\n",
    "print(validate(\"\"))\n",
    "print(validate('teja'))"
   ]
  },
  {
   "cell_type": "code",
   "execution_count": 25,
   "id": "e7100ed8",
   "metadata": {},
   "outputs": [
    {
     "name": "stdout",
     "output_type": "stream",
     "text": [
      "Welcome Admin\n",
      "Welcome User\n"
     ]
    }
   ],
   "source": [
    "# Example 8: Custom message definer\n",
    "def message(role):\n",
    "    return \"Welcome \" + (\"Admin\" if role == \"admin\" else \"User\")\n",
    "print(message(\"admin\"))\n",
    "print(message(\"vish\"))"
   ]
  },
  {
   "cell_type": "code",
   "execution_count": 26,
   "id": "67677675",
   "metadata": {},
   "outputs": [
    {
     "name": "stdout",
     "output_type": "stream",
     "text": [
      "3 items: task1, task2, task3\n"
     ]
    }
   ],
   "source": [
    "# Example 9: Summarize list\n",
    "def summarize(lst):\n",
    "    return f\"{len(lst)} items: {', '.join(lst)}\"\n",
    "print(summarize([\"task1\", \"task2\", \"task3\"]))\n"
   ]
  },
  {
   "cell_type": "code",
   "execution_count": null,
   "id": "bbae4b35",
   "metadata": {},
   "outputs": [
    {
     "name": "stdout",
     "output_type": "stream",
     "text": [
      "Events: start, load, exit\n",
      "Events: start\n",
      "Events: load\n",
      "Events: exit\n"
     ]
    }
   ],
   "source": [
    "# 3. *args and **kwargs\n",
    "\n",
    "# Example 1: *args for logs\n",
    "def log_events(*events):\n",
    "    print(\"Events:\", \", \".join(events))\n",
    "log_events(\"start\", \"load\", \"exit\")\n",
    "\n",
    "# Example 2: *args for logs\n",
    "def log_events(*events):\n",
    "    for event in events:\n",
    "        print(\"Events:\", event)\n",
    "log_events(\"start\", \"load\", \"exit\")"
   ]
  },
  {
   "cell_type": "code",
   "execution_count": 30,
   "id": "105f2e54",
   "metadata": {},
   "outputs": [
    {
     "name": "stdout",
     "output_type": "stream",
     "text": [
      "AgentIDs: a1, a2\n",
      "10\n"
     ]
    }
   ],
   "source": [
    "# Example 3: Combine *args and static\n",
    "\n",
    "def register(tag, *ids):\n",
    "    return f\"{tag}: {', '.join(ids)}\"\n",
    "print(register(\"AgentIDs\", \"a1\", \"a2\"))\n",
    "\n",
    "# Example 4: Flexible operations\n",
    "def math_ops(op, *nums):\n",
    "    if op == \"sum\":\n",
    "        return sum(nums)\n",
    "print(math_ops(\"sum\", 1, 2, 3, 4))\n"
   ]
  },
  {
   "cell_type": "code",
   "execution_count": 31,
   "id": "49e97df5",
   "metadata": {},
   "outputs": [
    {
     "name": "stdout",
     "output_type": "stream",
     "text": [
      "name = Neo\n",
      "model = GPT-4\n",
      "temp = 0.7\n",
      "Steps: ('setup', 'run')\n",
      "Options: {'env': 'prod', 'retries': 3}\n",
      "Saving to: default.txt\n",
      "Saving to: output.txt\n"
     ]
    }
   ],
   "source": [
    "# Example 5: **kwargs agent config\n",
    "def configure_agent(**settings):\n",
    "    for key, value in settings.items():\n",
    "        print(f\"{key} = {value}\")\n",
    "configure_agent(name=\"Neo\", model=\"GPT-4\", temp=0.7)\n",
    "\n",
    "# Example 6: Combine *args + **kwargs\n",
    "def launch(*steps, **options):\n",
    "    print(\"Steps:\", steps)\n",
    "    print(\"Options:\", options)\n",
    "launch(\"setup\", \"run\", env=\"prod\", retries=3)\n",
    "\n",
    "# Example 7: Defaults with **kwargs\n",
    "def save_file(**kwargs):\n",
    "    path = kwargs.get(\"path\", \"default.txt\")\n",
    "    print(\"Saving to:\", path)\n",
    "save_file()\n",
    "save_file(path=\"output.txt\")"
   ]
  },
  {
   "cell_type": "code",
   "execution_count": 35,
   "id": "70cc93d9",
   "metadata": {},
   "outputs": [
    {
     "name": "stdout",
     "output_type": "stream",
     "text": [
      "Debug info: {'agent': '007', 'mode': 'spy'}\n",
      "name=agent1 | status=ready\n",
      "Agent - 1 - Ready\n"
     ]
    }
   ],
   "source": [
    "# Example 8: **kwargs filtering\n",
    "def print_if(debug=True, **kwargs):\n",
    "    if debug:\n",
    "        print(\"Debug info:\", kwargs)\n",
    "print_if(debug=True, agent=\"007\", mode=\"spy\")\n",
    "\n",
    "# Example 9: Dynamic form builder\n",
    "def form(**fields):\n",
    "    return \" | \".join(f\"{k}={v}\" for k, v in fields.items())\n",
    "print(form(name=\"agent1\", status=\"ready\"))\n",
    "\n",
    "# Example 10: Flexible print\n",
    "def custom_print(*args, sep=\" | \", end=\"\\n\"):\n",
    "    print(sep.join(map(str, args)), end=end)\n",
    "custom_print(\"Agent\", 1, \"Ready\", sep=\" - \")"
   ]
  },
  {
   "cell_type": "code",
   "execution_count": 36,
   "id": "8ac09ab8",
   "metadata": {},
   "outputs": [
    {
     "name": "stdout",
     "output_type": "stream",
     "text": [
      "4 squared: 16\n",
      "Squares: [1, 4, 9, 16]\n",
      "Filtered: [15, 20]\n"
     ]
    }
   ],
   "source": [
    "#4. Lambda, map, filter\n",
    "\n",
    "# lambda\n",
    "square = lambda x: x * x\n",
    "print(\"4 squared:\", square(4))\n",
    "\n",
    "# map example\n",
    "nums = [1, 2, 3, 4]\n",
    "squares = list(map(lambda x: x * x, nums))\n",
    "print(\"Squares:\", squares)\n",
    "\n",
    "# filter example\n",
    "values = [5, 10, 15, 20]\n",
    "filtered = list(filter(lambda x: x > 10, values))\n",
    "print(\"Filtered:\", filtered)\n"
   ]
  },
  {
   "cell_type": "code",
   "execution_count": 37,
   "id": "ac55b1f2",
   "metadata": {},
   "outputs": [
    {
     "name": "stdout",
     "output_type": "stream",
     "text": [
      "['summ', 'tran', 'chat']\n",
      "['data', 'model']\n",
      "['A', 'B', 'C']\n"
     ]
    }
   ],
   "source": [
    "# Example 4: shorten words\n",
    "words = [\"summarize\", \"translate\", \"chat\"]\n",
    "short = list(map(lambda w: w[:4], words))\n",
    "print(short)\n",
    "\n",
    "# Example 5: strip strings\n",
    "lines = [\" data \", \" model \"]\n",
    "clean = list(map(str.strip, lines))\n",
    "print(clean)\n",
    "\n",
    "# Example 6: uppercase all\n",
    "caps = list(map(str.upper, [\"a\", \"b\", \"c\"]))\n",
    "print(caps)"
   ]
  },
  {
   "cell_type": "code",
   "execution_count": 38,
   "id": "20c59667",
   "metadata": {},
   "outputs": [
    {
     "name": "stdout",
     "output_type": "stream",
     "text": [
      "['msg', 'text']\n",
      "[5, 4]\n"
     ]
    }
   ],
   "source": [
    "# Example 7: filter non-empty\n",
    "raw = [\"\", \"msg\", \"\", \"text\"]\n",
    "print(list(filter(lambda x: x != \"\", raw)))\n",
    "\n",
    "# Example 8: lambda with condition\n",
    "ratings = [3, 5, 2, 4]\n",
    "print(list(filter(lambda x: x >= 4, ratings)))\n"
   ]
  },
  {
   "cell_type": "code",
   "execution_count": 39,
   "id": "1a5c3b43",
   "metadata": {},
   "outputs": [
    {
     "name": "stdout",
     "output_type": "stream",
     "text": [
      "['!run', '!load']\n",
      "[4, 16]\n"
     ]
    }
   ],
   "source": [
    "# Example 9: Lambda inline in function\n",
    "def activate(msgs):\n",
    "    return list(map(lambda m: \"!\" + m, msgs))\n",
    "print(activate([\"run\", \"load\"]))\n",
    "\n",
    "# Example 10: Use map+filter together\n",
    "nums = [1, 2, 3, 4, 5]\n",
    "evens_squared = list(map(lambda x: x * x, filter(lambda x: x % 2 == 0, nums)))\n",
    "print(evens_squared)"
   ]
  },
  {
   "cell_type": "code",
   "execution_count": null,
   "id": "34123ecd",
   "metadata": {},
   "outputs": [
    {
     "name": "stdout",
     "output_type": "stream",
     "text": [
      "Retry in 3\n",
      "Retry in 2\n",
      "Retry in 1\n",
      "Done\n"
     ]
    }
   ],
   "source": [
    "#5. Recursion\n",
    "# Recursive countdown (like retry)\n",
    "def countdown(n):\n",
    "    if n <= 0:\n",
    "        print(\"Done\")\n",
    "    else:\n",
    "        print(\"Retry in\", n)\n",
    "        countdown(n - 1)\n",
    "countdown(3)"
   ]
  },
  {
   "cell_type": "code",
   "execution_count": 41,
   "id": "dc412eb4",
   "metadata": {},
   "outputs": [
    {
     "name": "stdout",
     "output_type": "stream",
     "text": [
      "Exploring: root\n",
      "Exploring: tool1\n",
      "Exploring: action1\n",
      "Exploring: action2\n",
      "Exploring: tool2\n"
     ]
    }
   ],
   "source": [
    "# Tree-like agent search\n",
    "agents = {\n",
    "    \"root\": [\"tool1\", \"tool2\"],\n",
    "    \"tool1\": [\"action1\", \"action2\"],\n",
    "    \"tool2\": []\n",
    "}\n",
    "\n",
    "def explore(node):\n",
    "    print(\"Exploring:\", node)\n",
    "    for child in agents.get(node, []):\n",
    "        explore(child)\n",
    "explore(\"root\")"
   ]
  },
  {
   "cell_type": "code",
   "execution_count": 42,
   "id": "fcb88831",
   "metadata": {},
   "outputs": [
    {
     "name": "stdout",
     "output_type": "stream",
     "text": [
      "120\n"
     ]
    }
   ],
   "source": [
    "def factorial(n):\n",
    "    if n <= 1:\n",
    "        return 1\n",
    "    return n * factorial(n - 1)\n",
    "print(factorial(5))"
   ]
  },
  {
   "cell_type": "code",
   "execution_count": 43,
   "id": "5d9311f4",
   "metadata": {},
   "outputs": [
    {
     "name": "stdout",
     "output_type": "stream",
     "text": [
      "3\n"
     ]
    }
   ],
   "source": [
    "# Example 7: Count words in sentence\n",
    "def count_words(text):\n",
    "    words = text.split()\n",
    "    if not words:\n",
    "        return 0\n",
    "    return 1 + count_words(\" \".join(words[1:]))\n",
    "print(count_words(\"agent tools loaded\"))\n"
   ]
  },
  {
   "cell_type": "code",
   "execution_count": 44,
   "id": "7165cf44",
   "metadata": {},
   "outputs": [
    {
     "name": "stdout",
     "output_type": "stream",
     "text": [
      "Attempt 3 for translate\n",
      "Attempt 2 for translate\n",
      "Attempt 1 for translate\n",
      "Failed\n"
     ]
    }
   ],
   "source": [
    "# Example 9: Agent retry logic\n",
    "def retry_agent(task, tries):\n",
    "    if tries == 0:\n",
    "        print(\"Failed\")\n",
    "    else:\n",
    "        print(f\"Attempt {tries} for {task}\")\n",
    "        retry_agent(task, tries - 1)\n",
    "retry_agent(\"translate\", 3)"
   ]
  },
  {
   "cell_type": "markdown",
   "id": "a42c229c",
   "metadata": {},
   "source": [
    "Summary:\n",
    "- `def` creates reusable blocks of logic\n",
    "- Use `*args`, `**kwargs` for flexible parameters\n",
    "- Lambdas make short functions inline\n",
    "- Recursion helps with trees, retries, decomposing workflows"
   ]
  }
 ],
 "metadata": {
  "kernelspec": {
   "display_name": "base",
   "language": "python",
   "name": "python3"
  },
  "language_info": {
   "codemirror_mode": {
    "name": "ipython",
    "version": 3
   },
   "file_extension": ".py",
   "mimetype": "text/x-python",
   "name": "python",
   "nbconvert_exporter": "python",
   "pygments_lexer": "ipython3",
   "version": "3.12.7"
  }
 },
 "nbformat": 4,
 "nbformat_minor": 5
}

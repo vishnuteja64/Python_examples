{
 "cells": [
  {
   "cell_type": "markdown",
   "id": "a67eec41",
   "metadata": {},
   "source": [
    "Dictionaries in Python\n",
    "---------------------------\n",
    "Dictionaries are key-value pairs — unordered, mutable, and indexed by unique keys. They're perfect for structured, fast-access data like configs, results, and agent memory.\n",
    "\n",
    "✅ Topics Covered:\n",
    "1. Creating and accessing dictionaries\n",
    "2. Modifying dictionaries (add/update/delete)\n",
    "3. Dictionary methods (get, keys, values, items)\n",
    "4. Looping and unpacking dicts\n",
    "5. Nested dictionaries"
   ]
  },
  {
   "cell_type": "code",
   "execution_count": 2,
   "id": "6c17cc17",
   "metadata": {},
   "outputs": [
    {
     "name": "stdout",
     "output_type": "stream",
     "text": [
      "{'id': '007', 'name': 'Bond'}\n",
      "Bond\n",
      "{'language': 'Python', 'version': 3.11}\n",
      "inactive\n",
      "{'name': 'Alice', 'score': 95, 1: 'one'}\n",
      "True\n",
      "N/A\n"
     ]
    }
   ],
   "source": [
    "#Creating and Accessing Dictionaries\n",
    "# Example 1: Basic dictionary creation\n",
    "agent = {\"id\": \"007\", \"name\": \"Bond\"}\n",
    "print(agent)\n",
    "\n",
    "# Example 2: Accessing values by key\n",
    "print(agent[\"name\"])\n",
    "\n",
    "# Example 3: Using dict() constructor\n",
    "config = dict(language=\"Python\", version=3.11)\n",
    "print(config)\n",
    "\n",
    "# Example 4: Non-string keys\n",
    "status = {True: \"active\", False: \"inactive\"}\n",
    "print(status[False])\n",
    "\n",
    "# Example 5: Mixed types\n",
    "info = {\"name\": \"Alice\", \"score\": 95, 1: \"one\"}\n",
    "print(info)\n",
    "\n",
    "# Example 6: Checking key existence\n",
    "print(\"name\" in info)\n",
    "\n",
    "# Example 7: Safe access with get()\n",
    "print(info.get(\"age\", \"N/A\"))\n"
   ]
  },
  {
   "cell_type": "code",
   "execution_count": 3,
   "id": "5305ba91",
   "metadata": {},
   "outputs": [
    {
     "name": "stdout",
     "output_type": "stream",
     "text": [
      "{'id': '007', 'name': 'Bond', 'mission': 'infiltrate'}\n",
      "{'id': '007', 'name': 'James Bond', 'mission': 'infiltrate'}\n",
      "{'id': '008', 'name': 'James Bond', 'mission': 'infiltrate', 'location': 'London'}\n",
      "{'id': '008', 'name': 'James Bond', 'mission': 'infiltrate'}\n",
      "infiltrate {'id': '008', 'name': 'James Bond'}\n",
      "('name', 'James Bond') {'id': '008'}\n",
      "{} {'id': '008'}\n"
     ]
    }
   ],
   "source": [
    "#Modifying Dictionaries\n",
    "# Example 1: Adding new key-value pair\n",
    "agent[\"mission\"] = \"infiltrate\"\n",
    "print(agent)\n",
    "\n",
    "# Example 2: Updating value\n",
    "agent[\"name\"] = \"James Bond\"\n",
    "print(agent)\n",
    "\n",
    "# Example 3: Updating multiple keys with update()\n",
    "agent.update({\"id\": \"008\", \"location\": \"London\"})\n",
    "print(agent)\n",
    "\n",
    "# Example 4: Deleting with del\n",
    "del agent[\"location\"]\n",
    "print(agent)\n",
    "\n",
    "# Example 5: pop() method\n",
    "mission = agent.pop(\"mission\")\n",
    "print(mission, agent)\n",
    "\n",
    "# Example 6: popitem()\n",
    "popped = agent.popitem()\n",
    "print(popped, agent)\n",
    "\n",
    "# Example 7: clear() method\n",
    "backup = agent.copy()\n",
    "agent.clear()\n",
    "print(agent, backup)\n"
   ]
  },
  {
   "cell_type": "code",
   "execution_count": 4,
   "id": "db642baf",
   "metadata": {},
   "outputs": [
    {
     "name": "stdout",
     "output_type": "stream",
     "text": [
      "dict_keys(['id'])\n",
      "dict_values(['008'])\n",
      "dict_items([('id', '008')])\n",
      "unknown\n",
      "{'a': 0, 'b': 0, 'c': 0}\n",
      "{'id': '008', 'rank': 'rookie'}\n",
      "{'id': '008', 'rank': 'rookie'}\n"
     ]
    }
   ],
   "source": [
    "#Dictionary Methods\n",
    "# Example 1: keys()\n",
    "print(backup.keys())\n",
    "\n",
    "# Example 2: values()\n",
    "print(backup.values())\n",
    "\n",
    "# Example 3: items()\n",
    "print(backup.items())\n",
    "\n",
    "# Example 4: get() with default\n",
    "print(backup.get(\"rank\", \"unknown\"))\n",
    "\n",
    "# Example 5: fromkeys()\n",
    "defaults = dict.fromkeys([\"a\", \"b\", \"c\"], 0)\n",
    "print(defaults)\n",
    "\n",
    "# Example 6: setdefault()\n",
    "backup.setdefault(\"rank\", \"rookie\")\n",
    "print(backup)\n",
    "\n",
    "# Example 7: copy()\n",
    "cloned = backup.copy()\n",
    "print(cloned)"
   ]
  },
  {
   "cell_type": "code",
   "execution_count": 5,
   "id": "1a6fb4fd",
   "metadata": {},
   "outputs": [
    {
     "name": "stdout",
     "output_type": "stream",
     "text": [
      "Key: id\n",
      "Key: rank\n",
      "Val: 008\n",
      "Val: rookie\n",
      "id: 008\n",
      "rank: rookie\n",
      "name Eve\n",
      "role Hacker\n",
      "{'x': 10, 'y': 20}\n",
      "{'b': 1, 'a': 3, 'n': 2}\n",
      "{1: 'b', 3: 'a', 2: 'n'}\n"
     ]
    }
   ],
   "source": [
    "#Looping and Unpacking Dictionaries\n",
    "# Example 1: Looping keys\n",
    "for key in backup:\n",
    "    print(\"Key:\", key)\n",
    "\n",
    "# Example 2: Looping values\n",
    "for val in backup.values():\n",
    "    print(\"Val:\", val)\n",
    "\n",
    "# Example 3: Looping items\n",
    "for k, v in backup.items():\n",
    "    print(f\"{k}: {v}\")\n",
    "\n",
    "# Example 4: Unpacking in functions\n",
    "def show_details(**kwargs):\n",
    "    for k, v in kwargs.items():\n",
    "        print(k, v)\n",
    "show_details(name=\"Eve\", role=\"Hacker\")\n",
    "\n",
    "# Example 5: Dict from zipped lists\n",
    "keys = [\"x\", \"y\"]\n",
    "values = [10, 20]\n",
    "combined = dict(zip(keys, values))\n",
    "print(combined)\n",
    "\n",
    "# Example 6: Count elements with dict\n",
    "count = {}\n",
    "for ch in \"banana\":\n",
    "    count[ch] = count.get(ch, 0) + 1\n",
    "print(count)\n",
    "\n",
    "# Example 7: Swap keys and values\n",
    "swapped = {v: k for k, v in count.items()}\n",
    "print(swapped)\n",
    "\n"
   ]
  },
  {
   "cell_type": "code",
   "execution_count": 6,
   "id": "54f6723b",
   "metadata": {},
   "outputs": [
    {
     "name": "stdout",
     "output_type": "stream",
     "text": [
      "90\n",
      "stealth: 90\n",
      "combat: 85\n",
      "{'agent': {'status': 'active'}}\n",
      "0\n",
      "{'name': 'agent_001', 'skills': {'stealth': 90, 'combat': 85, 'hacking': 75}}\n",
      "{'name': 'agent_001', 'skills': {'stealth': 90, 'combat': 85, 'hacking': 75, 'sniping': 80}}\n",
      "{'name': 'agent_001', 'skills': {'stealth': 90, 'combat': 85, 'hacking': 75, 'sniping': 80}}\n"
     ]
    }
   ],
   "source": [
    "#Nested Dictionaries\n",
    "# Example 1: Basic nesting\n",
    "user = {\n",
    "    \"name\": \"agent_001\",\n",
    "    \"skills\": {\"stealth\": 90, \"combat\": 85}\n",
    "}\n",
    "print(user[\"skills\"][\"stealth\"])\n",
    "\n",
    "# Example 2: Looping through nested dicts\n",
    "for skill, score in user[\"skills\"].items():\n",
    "    print(f\"{skill}: {score}\")\n",
    "\n",
    "# Example 3: Dynamic nested creation\n",
    "profile = {}\n",
    "profile[\"agent\"] = {}\n",
    "profile[\"agent\"][\"status\"] = \"active\"\n",
    "print(profile)\n",
    "\n",
    "# Example 4: Access with get()\n",
    "print(user.get(\"skills\", {}).get(\"tech\", 0))\n",
    "\n",
    "# Example 5: Nested dict update\n",
    "user[\"skills\"].update({\"hacking\": 75})\n",
    "print(user)\n",
    "\n",
    "# Example 6: Nested dict merge\n",
    "more_skills = {\"skills\": {\"sniping\": 80}}\n",
    "user[\"skills\"].update(more_skills[\"skills\"])\n",
    "print(user)\n",
    "\n",
    "# Example 7: Nested copy (shallow)\n",
    "copy_user = user.copy()\n",
    "print(copy_user)\n"
   ]
  },
  {
   "cell_type": "code",
   "execution_count": 7,
   "id": "ab383fcf",
   "metadata": {},
   "outputs": [
    {
     "name": "stdout",
     "output_type": "stream",
     "text": [
      "{'user_id': 'u123', 'history': ['hi', 'hello'], 'context': {'topic': 'AI'}}\n",
      "{'model': 'gpt-4', 'settings': {'temp': 0.7, 'max_tokens': 1000}}\n",
      "Summarize this: {text}\n",
      "{'prompt_1': 'summary here'}\n",
      "en-agent\n",
      "{'u1': [4, 3], 'u2': [5]}\n",
      "{'step': 'init', 'time': '10:00'}\n",
      "{'step': 'response', 'time': '10:01'}\n"
     ]
    }
   ],
   "source": [
    "#GenAI / Agent Use Cases\n",
    "# Example 1: Agent memory store\n",
    "memory = {\n",
    "    \"user_id\": \"u123\",\n",
    "    \"history\": [\"hi\", \"hello\"],\n",
    "    \"context\": {\"topic\": \"AI\"}\n",
    "}\n",
    "print(memory)\n",
    "\n",
    "# Example 2: Agent config\n",
    "agent_cfg = {\n",
    "    \"model\": \"gpt-4\",\n",
    "    \"settings\": {\n",
    "        \"temp\": 0.7,\n",
    "        \"max_tokens\": 1000\n",
    "    }\n",
    "}\n",
    "print(agent_cfg)\n",
    "\n",
    "# Example 3: LLM prompt templates\n",
    "templates = {\n",
    "    \"summarize\": \"Summarize this: {text}\",\n",
    "    \"translate\": \"Translate to {lang}: {text}\"\n",
    "}\n",
    "print(templates[\"summarize\"])\n",
    "\n",
    "# Example 4: Response tracking\n",
    "responses = {}\n",
    "responses[\"prompt_1\"] = \"summary here\"\n",
    "print(responses)\n",
    "\n",
    "# Example 5: Routing map\n",
    "task_router = {\n",
    "    (\"user\", \"english\"): \"en-agent\",\n",
    "    (\"user\", \"spanish\"): \"es-agent\"\n",
    "}\n",
    "print(task_router[(\"user\", \"english\")])\n",
    "\n",
    "# Example 6: Aggregating feedback\n",
    "feedback = {}\n",
    "for uid, score in [(\"u1\", 4), (\"u2\", 5), (\"u1\", 3)]:\n",
    "    feedback[uid] = feedback.get(uid, []) + [score]\n",
    "print(feedback)\n",
    "\n",
    "# Example 7: Logging agent events\n",
    "log = {\n",
    "    \"events\": [\n",
    "        {\"step\": \"init\", \"time\": \"10:00\"},\n",
    "        {\"step\": \"response\", \"time\": \"10:01\"}\n",
    "    ]\n",
    "}\n",
    "for e in log[\"events\"]:\n",
    "    print(e)"
   ]
  },
  {
   "cell_type": "markdown",
   "id": "796826e3",
   "metadata": {},
   "source": [
    "Summary: When to Use What\n",
    "\"\"\"\n",
    "1. Creating & Accessing Dicts     → When you want to associate keys with values (like attributes, configs)\n",
    "2. Modifying Dictionaries         → For dynamic updates, API results, state changes\n",
    "3. Dictionary Methods             → For safe access, default handling, and cloning\n",
    "4. Looping & Unpacking            → Use when processing key-value pairs\n",
    "5. Nested Dictionaries            → Ideal for structured data like user profiles, settings, and memory\n",
    "6. GenAI/Agent Use Cases          → Store prompts, configs, context, logs, and task-routing logic\n",
    "\"\"\"\n"
   ]
  }
 ],
 "metadata": {
  "kernelspec": {
   "display_name": "base",
   "language": "python",
   "name": "python3"
  },
  "language_info": {
   "codemirror_mode": {
    "name": "ipython",
    "version": 3
   },
   "file_extension": ".py",
   "mimetype": "text/x-python",
   "name": "python",
   "nbconvert_exporter": "python",
   "pygments_lexer": "ipython3",
   "version": "3.12.7"
  }
 },
 "nbformat": 4,
 "nbformat_minor": 5
}

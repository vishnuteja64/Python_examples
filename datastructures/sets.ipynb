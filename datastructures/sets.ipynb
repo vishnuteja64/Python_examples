{
 "cells": [
  {
   "cell_type": "markdown",
   "id": "be6c902c",
   "metadata": {},
   "source": [
    "Sets in Python\n",
    "-------------------\n",
    "Sets are unordered, mutable collections of **unique** elements. They're perfect for fast membership tests, removing duplicates, and performing mathematical set operations.\n",
    "\n",
    "✅ Topics Covered:\n",
    "1. Creating and accessing sets\n",
    "2. Modifying sets (add/remove/update)\n",
    "3. Set operations (union, intersection, etc.)\n",
    "4. Set comprehension\n",
    "5. Sets in loops and functions"
   ]
  },
  {
   "cell_type": "code",
   "execution_count": 1,
   "id": "cf5f0f20",
   "metadata": {},
   "outputs": [
    {
     "name": "stdout",
     "output_type": "stream",
     "text": [
      "{1, 2, 3, 4}\n",
      "{1, 2, 3, 4}\n",
      "{'agent', 42, True}\n",
      "<class 'set'>\n",
      "True\n",
      "4\n",
      "agent\n",
      "42\n",
      "True\n"
     ]
    }
   ],
   "source": [
    "#Creating and Accessing Sets\n",
    "# Example 1: Basic set creation\n",
    "s1 = {1, 2, 3, 4}\n",
    "print(s1)\n",
    "\n",
    "# Example 2: Using set() constructor\n",
    "s2 = set([1, 2, 2, 3, 3, 4])\n",
    "print(s2)\n",
    "\n",
    "# Example 3: Mixed data types\n",
    "s3 = {\"agent\", 42, True}\n",
    "print(s3)\n",
    "\n",
    "# Example 4: Empty set\n",
    "s4 = set()\n",
    "print(type(s4))  # not {}\n",
    "\n",
    "# Example 5: Membership test\n",
    "print(2 in s1)\n",
    "\n",
    "# Example 6: Length of set\n",
    "print(len(s2))\n",
    "\n",
    "# Example 7: Iterating a set\n",
    "for item in s3:\n",
    "    print(item)"
   ]
  },
  {
   "cell_type": "code",
   "execution_count": 2,
   "id": "8c2c8ec1",
   "metadata": {},
   "outputs": [
    {
     "name": "stdout",
     "output_type": "stream",
     "text": [
      "{1, 2, 3}\n",
      "{1, 2, 3}\n",
      "{2, 3}\n",
      "{2, 3, 4, 5}\n",
      "set()\n",
      "{1, 2, 3}\n"
     ]
    }
   ],
   "source": [
    "#Modifying Sets\n",
    "# Example 1: Adding elements\n",
    "s = {1, 2}\n",
    "s.add(3)\n",
    "print(s)\n",
    "\n",
    "# Example 2: Adding duplicates (ignored)\n",
    "s.add(2)\n",
    "print(s)\n",
    "\n",
    "# Example 3: Removing elements\n",
    "s.remove(1)\n",
    "print(s)\n",
    "\n",
    "# Example 4: Discard vs Remove\n",
    "s.discard(10)  # no error\n",
    "# s.remove(10) # would raise KeyError\n",
    "\n",
    "# Example 5: Updating with multiple elements\n",
    "s.update([4, 5])\n",
    "print(s)\n",
    "\n",
    "# Example 6: Clearing a set\n",
    "s.clear()\n",
    "print(s)\n",
    "\n",
    "# Example 7: Copying a set\n",
    "original = {1, 2, 3}\n",
    "copy = original.copy()\n",
    "print(copy)\n"
   ]
  },
  {
   "cell_type": "code",
   "execution_count": 4,
   "id": "d3610b98",
   "metadata": {},
   "outputs": [
    {
     "name": "stdout",
     "output_type": "stream",
     "text": [
      "{1, 2, 3, 4, 5}\n",
      "{3}\n",
      "{1, 2}\n",
      "{1, 2, 4, 5}\n"
     ]
    }
   ],
   "source": [
    "#Set Operations\n",
    "# Example 1: Union\n",
    "A = {1, 2, 3}\n",
    "B = {3, 4, 5}\n",
    "print(A | B)\n",
    "\n",
    "# Example 2: Intersection\n",
    "print(A & B)\n",
    "\n",
    "# Example 3: Difference\n",
    "print(A - B)\n",
    "\n",
    "# Example 4: Symmetric difference\n",
    "print(A ^ B)\n",
    "\n",
    "\n"
   ]
  },
  {
   "cell_type": "code",
   "execution_count": 7,
   "id": "751c4f01",
   "metadata": {},
   "outputs": [
    {
     "name": "stdout",
     "output_type": "stream",
     "text": [
      "True\n",
      "True\n",
      "True\n"
     ]
    }
   ],
   "source": [
    "# Example 5: Subset check\n",
    "print({1, 2} <= A)\n",
    "\n",
    "# Example 6: Superset check\n",
    "print(A >= {1})\n",
    "\n",
    "# Example 7: Disjoint check\n",
    "print(A.isdisjoint({9, 10}))"
   ]
  },
  {
   "cell_type": "code",
   "execution_count": 12,
   "id": "04287cd2",
   "metadata": {},
   "outputs": [
    {
     "name": "stdout",
     "output_type": "stream",
     "text": [
      "{0, 1, 4, 9, 16, 25}\n",
      "{0, 2, 4, 6, 8}\n",
      "{'s', 'i', 'm', 'p'}\n",
      "{1, 2, 3, 4}\n"
     ]
    }
   ],
   "source": [
    "#Set Comprehension\n",
    "# Example 1: Basic comprehension\n",
    "squares = {x*x for x in range(6)}\n",
    "print(squares)\n",
    "\n",
    "# Example 2: With condition\n",
    "evens = {x for x in range(10) if x % 2 == 0}\n",
    "print(evens)\n",
    "\n",
    "# Example 3: From string characters\n",
    "chars = {ch for ch in \"mississippi\"}\n",
    "print(chars)\n",
    "\n",
    "# Example 4: From list with duplicates\n",
    "unique_items = {item for item in [1, 2, 2, 3, 3, 4]}\n",
    "print(unique_items)"
   ]
  },
  {
   "cell_type": "code",
   "execution_count": 14,
   "id": "19a4862a",
   "metadata": {},
   "outputs": [
    {
     "name": "stdout",
     "output_type": "stream",
     "text": [
      "{'a'}\n",
      "{0, 18, 12, 6}\n",
      "{1, 3, 5}\n"
     ]
    }
   ],
   "source": [
    "# Example 5: Set of first letters\n",
    "words = [\"agent\", \"assign\", \"action\"]\n",
    "first_letters = {word[0] for word in words}\n",
    "print(first_letters)\n",
    "\n",
    "# Example 6: Filtered nested set\n",
    "nested = {x for x in range(20) if x % 2 == 0 and x % 3 == 0}\n",
    "print(nested)\n",
    "\n",
    "# Example 7: Tuple element filter\n",
    "pairs = [(1, 2), (3, 4), (5, 6)]\n",
    "f = {x for (x, _) in pairs}\n",
    "print(f)\n"
   ]
  },
  {
   "cell_type": "code",
   "execution_count": 15,
   "id": "e6ce7907",
   "metadata": {},
   "outputs": [
    {
     "name": "stdout",
     "output_type": "stream",
     "text": [
      "[1, 2, 3]\n",
      "['a', 'c']\n"
     ]
    }
   ],
   "source": [
    "#Sets in Loops and Functions\n",
    "# Example 1: Deduplication function\n",
    "def remove_duplicates(data):\n",
    "    return list(set(data))\n",
    "print(remove_duplicates([1, 2, 2, 3]))\n",
    "\n",
    "# Example 2: Fast membership filtering\n",
    "def allowed_words(words, blacklist):\n",
    "    return [w for w in words if w not in blacklist]\n",
    "print(allowed_words([\"a\", \"b\", \"c\"], {\"b\"}))"
   ]
  },
  {
   "cell_type": "code",
   "execution_count": 16,
   "id": "87a80e3e",
   "metadata": {},
   "outputs": [
    {
     "name": "stdout",
     "output_type": "stream",
     "text": [
      "{2}\n",
      "4\n"
     ]
    }
   ],
   "source": [
    "# Example 3: Set intersection logic\n",
    "def shared_items(a, b):\n",
    "    return a & b\n",
    "print(shared_items({1, 2}, {2, 3}))\n",
    "\n",
    "# Example 4: Counting unique elements\n",
    "def count_unique(items):\n",
    "    return len(set(items))\n",
    "print(count_unique([1, 1, 2, 3, 3, 4]))\n"
   ]
  },
  {
   "cell_type": "code",
   "execution_count": 17,
   "id": "3c8f026a",
   "metadata": {},
   "outputs": [
    {
     "name": "stdout",
     "output_type": "stream",
     "text": [
      "Visited home\n",
      "Visited about\n",
      "New: 1\n",
      "New: 2\n",
      "New: 3\n",
      "Pending: {'task3', 'task2'}\n"
     ]
    }
   ],
   "source": [
    "# Example 5: Tracking visited items\n",
    "visited = set()\n",
    "for page in [\"home\", \"about\", \"home\"]:\n",
    "    if page not in visited:\n",
    "        visited.add(page)\n",
    "        print(f\"Visited {page}\")\n",
    "\n",
    "# Example 6: Avoiding duplicates in loop\n",
    "seen = set()\n",
    "for i in [1, 1, 2, 3, 2]:\n",
    "    if i not in seen:\n",
    "        print(\"New:\", i)\n",
    "        seen.add(i)\n",
    "\n",
    "# Example 7: Fast set diff logic in agent task\n",
    "source = {\"task1\", \"task2\", \"task3\"}\n",
    "done = {\"task1\"}\n",
    "print(\"Pending:\", source - done)\n",
    "\n"
   ]
  },
  {
   "cell_type": "code",
   "execution_count": 19,
   "id": "9658e266",
   "metadata": {},
   "outputs": [
    {
     "name": "stdout",
     "output_type": "stream",
     "text": [
      "{'q2', 'q1'}\n",
      "Fetching doc1\n",
      "Fetching doc2\n"
     ]
    }
   ],
   "source": [
    "#GenAI / Agent Use Cases\n",
    "# Example 1: Track unique user queries\n",
    "query_log = [\"q1\", \"q2\", \"q1\"]\n",
    "unique_queries = set(query_log)\n",
    "print(unique_queries)\n",
    "\n",
    "# Example 2: Avoid repeating API calls\n",
    "fetched = set()\n",
    "api_data = [\"doc1\", \"doc2\", \"doc1\"]\n",
    "for doc in api_data:\n",
    "    if doc not in fetched:\n",
    "        print(f\"Fetching {doc}\")\n",
    "        fetched.add(doc)\n",
    "\n",
    "\n"
   ]
  },
  {
   "cell_type": "code",
   "execution_count": 18,
   "id": "61f8e437",
   "metadata": {},
   "outputs": [
    {
     "name": "stdout",
     "output_type": "stream",
     "text": [
      "['search']\n",
      "Overlap: {'GPT'}\n",
      "True\n",
      "{'Hello', 'Hi'}\n",
      "Executing: parse\n",
      "Executing: vectorize\n"
     ]
    }
   ],
   "source": [
    "# Example 3: Filter allowed commands\n",
    "allowed = {\"search\", \"summarize\"}\n",
    "input_cmds = [\"search\", \"delete\"]\n",
    "print([cmd for cmd in input_cmds if cmd in allowed])\n",
    "\n",
    "# Example 4: Label overlap check in LLM training\n",
    "labels_a = {\"GPT\", \"BERT\"}\n",
    "labels_b = {\"Claude\", \"GPT\"}\n",
    "print(\"Overlap:\", labels_a & labels_b)\n",
    "\n",
    "# Example 5: Fast intent lookup\n",
    "intents = {\"greet\", \"query\", \"exit\"}\n",
    "print(\"greet\" in intents)\n",
    "\n",
    "# Example 6: Prompt de-duplication\n",
    "prompts = [\"Hi\", \"Hi\", \"Hello\"]\n",
    "print(set(prompts))\n",
    "\n",
    "# Example 7: Log unseen tasks\n",
    "log = set()\n",
    "tasks = [\"parse\", \"vectorize\", \"parse\"]\n",
    "for t in tasks:\n",
    "    if t not in log:\n",
    "        print(f\"Executing: {t}\")\n",
    "        log.add(t)"
   ]
  },
  {
   "cell_type": "markdown",
   "id": "a9703678",
   "metadata": {},
   "source": [
    "Summary: When to Use What\n",
    "\"\"\"\n",
    "1. Creating/Accessing Sets         → When you need uniqueness and don’t care about order\n",
    "2. Modifying Sets                 → Dynamically track and update unique items (e.g., visited states)\n",
    "3. Set Operations                 → Compare groups efficiently (union, intersection, diff)\n",
    "4. Set Comprehension              → Build sets from logic filters\n",
    "5. Sets in Loops/Functions        → Use for fast lookup, deduplication, membership checks\n",
    "6. GenAI/Agent Use Cases          → Track user inputs, avoid repeat fetches, manage tasks, and commands efficiently\n",
    "\"\"\""
   ]
  }
 ],
 "metadata": {
  "kernelspec": {
   "display_name": "base",
   "language": "python",
   "name": "python3"
  },
  "language_info": {
   "codemirror_mode": {
    "name": "ipython",
    "version": 3
   },
   "file_extension": ".py",
   "mimetype": "text/x-python",
   "name": "python",
   "nbconvert_exporter": "python",
   "pygments_lexer": "ipython3",
   "version": "3.12.7"
  }
 },
 "nbformat": 4,
 "nbformat_minor": 5
}

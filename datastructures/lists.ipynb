{
 "cells": [
  {
   "cell_type": "markdown",
   "id": "be408065",
   "metadata": {},
   "source": [
    "Data Structures / 01 Lists\n",
    "\n",
    "### 🔍 Why Lists Are Critical in AI/Agent Engineering:\n",
    "- Lists are ordered, mutable, and can hold heterogeneous data\n",
    "- They serve as buffers, memory banks, chat logs, and tool sequences\n",
    "- Used in prompt chaining, pipeline queueing, intermediate results storage\n",
    "- Essential for holding tasks, tool names, inputs/outputs, agent actions\n"
   ]
  },
  {
   "cell_type": "markdown",
   "id": "8ec6b98c",
   "metadata": {},
   "source": [
    "Real-World Examples:\n",
    "- Agent task queue: [\"summarize\", \"search\", \"generate\"]\n",
    "- Chatbot memory buffer: [\"User: hi\", \"Bot: hello\"]\n",
    "- Result aggregation: [score1, score2, score3]"
   ]
  },
  {
   "cell_type": "code",
   "execution_count": null,
   "id": "ce246747",
   "metadata": {},
   "outputs": [],
   "source": [
    "Topics Covered:\n",
    "1. Creating and accessing lists\n",
    "2. Modifying lists (add, remove, update)\n",
    "3. Looping and conditional logic\n",
    "4. Built-in list methods\n",
    "5. List comprehensions\n",
    "6. Nested lists (e.g., tool-step trees)\n"
   ]
  },
  {
   "cell_type": "markdown",
   "id": "4524e239",
   "metadata": {},
   "source": [
    "Creating and Accessing Lists\n",
    "\n",
    "Lists are defined using square brackets `[]` and can hold elements of any type.\n",
    "\n",
    "Common operations:\n",
    "- Indexing: `lst[0]`, `lst[-1]`\n",
    "- Slicing: `lst[1:]`, `lst[:2]`\n",
    "- Checking length: `len(lst)`"
   ]
  },
  {
   "cell_type": "code",
   "execution_count": 1,
   "id": "933605f5",
   "metadata": {},
   "outputs": [
    {
     "name": "stdout",
     "output_type": "stream",
     "text": [
      "First task: summarize\n",
      "Last task: respond\n",
      "All but first: ['search', 'respond']\n",
      "Task count: 3\n"
     ]
    }
   ],
   "source": [
    "\n",
    "tasks = [\"summarize\", \"search\", \"respond\"]\n",
    "print(\"First task:\", tasks[0])\n",
    "print(\"Last task:\", tasks[-1])\n",
    "print(\"All but first:\", tasks[1:])\n",
    "print(\"Task count:\", len(tasks))\n"
   ]
  },
  {
   "cell_type": "code",
   "execution_count": 2,
   "id": "7734ec46",
   "metadata": {},
   "outputs": [
    {
     "name": "stdout",
     "output_type": "stream",
     "text": [
      "Processed Input\n",
      "['Processed Input', 'Returned Output']\n",
      "['A', 'C', 'E']\n",
      "tokenize\n",
      "[42, 'ready', True]\n"
     ]
    }
   ],
   "source": [
    "agent_logs = [\"Started\", \"Loaded Model\", \"Processed Input\", \"Returned Output\"]\n",
    "print(agent_logs[2])  # Access by index\n",
    "print(agent_logs[-2:])  # Slice last 2\n",
    "\n",
    "steps = list(\"ABCDE\")  # ['A', 'B', 'C', 'D', 'E']\n",
    "print(steps[::2])  # Every other step\n",
    "\n",
    "pipeline = [[\"load\"], [\"tokenize\"], [\"infer\"]]\n",
    "print(pipeline[1][0])  # 'tokenize'\n",
    "\n",
    "mix_data = [42, \"ready\", True]\n",
    "print(mix_data)"
   ]
  },
  {
   "cell_type": "markdown",
   "id": "b665eb94",
   "metadata": {},
   "source": [
    "2. Modifying Lists\n",
    "\n",
    "Lists are mutable. You can:\n",
    "- Add: `append()`, `insert()`\n",
    "- Remove: `remove()`, `pop()`\n",
    "- Update: `lst[index] = value`"
   ]
  },
  {
   "cell_type": "code",
   "execution_count": 3,
   "id": "e6d02c72",
   "metadata": {},
   "outputs": [
    {
     "name": "stdout",
     "output_type": "stream",
     "text": [
      "Final task list: ['plan', 'analyze', 'respond']\n"
     ]
    }
   ],
   "source": [
    "tasks.append(\"translate\")\n",
    "tasks.insert(1, \"analyze\")\n",
    "tasks.remove(\"search\")\n",
    "last = tasks.pop()\n",
    "tasks[0] = \"plan\"\n",
    "print(\"Final task list:\", tasks)"
   ]
  },
  {
   "cell_type": "code",
   "execution_count": 5,
   "id": "3220bf41",
   "metadata": {},
   "outputs": [
    {
     "name": "stdout",
     "output_type": "stream",
     "text": [
      "['msg1', 'msg2', 'msg3']\n",
      "['msg1', 'msg2', 'msg3', 'msg4', 'msg5']\n",
      "['msg0', 'msg1', 'msg2', 'msg3', 'msg4', 'msg5']\n",
      "['msg0', 'msg1', 'msg3', 'msg4', 'msg5']\n",
      "['msg0', 'msg1', 'msg3', 'msg4', 'msgX']\n"
     ]
    }
   ],
   "source": [
    "msgs = [\"msg1\", \"msg2\"]\n",
    "msgs += [\"msg3\"]\n",
    "print(msgs)\n",
    "\n",
    "msgs.extend([\"msg4\", \"msg5\"])\n",
    "print(msgs)\n",
    "\n",
    "msgs.insert(0, \"msg0\")\n",
    "print(msgs)\n",
    "\n",
    "msgs.remove(\"msg2\")\n",
    "print(msgs)\n",
    "\n",
    "msgs[-1] = \"msgX\"\n",
    "print(msgs)"
   ]
  },
  {
   "cell_type": "markdown",
   "id": "f762b2b2",
   "metadata": {},
   "source": [
    "3. Looping and Conditionals\n",
    "\n",
    "- Use `for` or `while` to iterate\n",
    "- Useful for processing queues, filtering messages, chaining prompts"
   ]
  },
  {
   "cell_type": "code",
   "execution_count": 6,
   "id": "7b26ec43",
   "metadata": {},
   "outputs": [
    {
     "name": "stdout",
     "output_type": "stream",
     "text": [
      "Handling: plan\n",
      "Handling: analyze\n",
      "Handling: respond\n",
      "A-task: plan\n",
      "A-task: analyze\n",
      "Processing: msg1\n",
      "Processing: msg2\n",
      "Processing: msg3\n"
     ]
    }
   ],
   "source": [
    "for task in tasks:\n",
    "    print(\"Handling:\", task)\n",
    "\n",
    "for task in tasks:\n",
    "    if \"a\" in task:\n",
    "        print(\"A-task:\", task)\n",
    "\n",
    "queue = [\"msg1\", \"msg2\", \"msg3\"]\n",
    "while queue:\n",
    "    msg = queue.pop(0)\n",
    "    print(\"Processing:\", msg)"
   ]
  },
  {
   "cell_type": "code",
   "execution_count": 7,
   "id": "2e87fa06",
   "metadata": {},
   "outputs": [
    {
     "name": "stdout",
     "output_type": "stream",
     "text": [
      "0 load\n",
      "1 run\n",
      "2 fail\n",
      "3 retry\n"
     ]
    }
   ],
   "source": [
    "logs = [\"load\", \"run\", \"fail\", \"retry\"]\n",
    "for i, log in enumerate(logs):\n",
    "    print(i, log)\n"
   ]
  },
  {
   "cell_type": "code",
   "execution_count": 10,
   "id": "471c83b0",
   "metadata": {},
   "outputs": [
    {
     "name": "stdout",
     "output_type": "stream",
     "text": [
      "['SUMMARIZE', 'RESPOND']\n",
      "Alerts: ['warn', 'error']\n",
      "Running: read\n",
      "Running: clean\n",
      "Exiting early\n"
     ]
    }
   ],
   "source": [
    "# Comprehension + loop combo\n",
    "cmds = [\"search\", \"summarize\", \"respond\"]\n",
    "uppercase_cmds = [c.upper() for c in cmds if len(c) > 6]\n",
    "print(uppercase_cmds)\n",
    "\n",
    "# Flag checker\n",
    "statuses = [\"ok\", \"warn\", \"error\"]\n",
    "flags = [s for s in statuses if s != \"ok\"]\n",
    "print(\"Alerts:\", flags)\n",
    "\n",
    "# Processing queue with exit condition\n",
    "buffer = [\"read\", \"clean\", \"exit\", \"log\"]\n",
    "for step in buffer:\n",
    "    if step == \"exit\":\n",
    "        print(\"Exiting early\")\n",
    "        break\n",
    "    print(\"Running:\", step)"
   ]
  },
  {
   "cell_type": "markdown",
   "id": "fef7d595",
   "metadata": {},
   "source": [
    "4. Built-in List Methods\n",
    "\n",
    "Useful operations:\n",
    "- `min()`, `max()`\n",
    "- `count()`\n",
    "- `sort()`, `reverse()`\n",
    "- `copy()`, `clear()`"
   ]
  },
  {
   "cell_type": "code",
   "execution_count": 11,
   "id": "fbfcb43d",
   "metadata": {},
   "outputs": [
    {
     "name": "stdout",
     "output_type": "stream",
     "text": [
      "Min: 1\n",
      "Max: 9\n",
      "Count of 1: 2\n",
      "Sorted: [1, 1, 3, 4, 5, 9]\n",
      "Reversed: [9, 5, 4, 3, 1, 1]\n",
      "Copied: [9, 5, 4, 3, 1, 1]\n",
      "Cleared: []\n"
     ]
    }
   ],
   "source": [
    "numbers = [3, 1, 4, 1, 5, 9]\n",
    "print(\"Min:\", min(numbers))\n",
    "print(\"Max:\", max(numbers))\n",
    "print(\"Count of 1:\", numbers.count(1))\n",
    "\n",
    "numbers.sort()\n",
    "print(\"Sorted:\", numbers)\n",
    "\n",
    "numbers.reverse()\n",
    "print(\"Reversed:\", numbers)\n",
    "\n",
    "copied = numbers.copy()\n",
    "numbers.clear()\n",
    "print(\"Copied:\", copied)\n",
    "print(\"Cleared:\", numbers)"
   ]
  },
  {
   "cell_type": "code",
   "execution_count": 12,
   "id": "ae583857",
   "metadata": {},
   "outputs": [
    {
     "name": "stdout",
     "output_type": "stream",
     "text": [
      "Index of 7: 2\n",
      "4 appears 2 times\n",
      "Desc sorted: [7, 6, 4, 4, 2, 2, 1]\n",
      "Removed 2 from copy: [7, 6, 4, 4, 2, 1]\n",
      "Samples reset: []\n"
     ]
    }
   ],
   "source": [
    "# List operations and methods\n",
    "samples = [4, 2, 7, 1, 6]\n",
    "print(\"Index of 7:\", samples.index(7))\n",
    "\n",
    "samples += [4, 2]\n",
    "print(\"4 appears\", samples.count(4), \"times\")\n",
    "\n",
    "samples.sort(reverse=True)\n",
    "print(\"Desc sorted:\", samples)\n",
    "\n",
    "copy2 = list(samples)\n",
    "copy2.remove(2)\n",
    "print(\"Removed 2 from copy:\", copy2)\n",
    "\n",
    "samples.clear()\n",
    "print(\"Samples reset:\", samples)"
   ]
  },
  {
   "cell_type": "markdown",
   "id": "3dabea58",
   "metadata": {},
   "source": [
    "5. List Comprehensions\n",
    "\n",
    "Elegant way to transform or filter lists in a single line.\n",
    "\n",
    "Syntax:\n",
    "```python\n",
    "[expression for item in iterable if condition]"
   ]
  },
  {
   "cell_type": "code",
   "execution_count": null,
   "id": "4c13d5ee",
   "metadata": {},
   "outputs": [
    {
     "name": "stdout",
     "output_type": "stream",
     "text": [
      "Squares: [0, 1, 4, 9, 16]\n",
      "Evens: [0, 2, 4, 6, 8]\n",
      "Upper Tools: ['CHAT', 'SUMMARIZE', 'SEARCH']\n",
      "Pairs: [(1, 'a'), (1, 'b'), (2, 'a'), (2, 'b')]\n"
     ]
    }
   ],
   "source": [
    "\n",
    "squares = [x * x for x in range(5)]\n",
    "print(\"Squares:\", squares)\n",
    "\n",
    "evens = [x for x in range(10) if x % 2 == 0]\n",
    "print(\"Evens:\", evens)\n",
    "\n",
    "upper_tools = [tool.upper() for tool in [\"chat\", \"summarize\", \"search\"]]\n",
    "print(\"Upper Tools:\", upper_tools)\n",
    "\n",
    "pairs = [(x, y) for x in [1, 2] for y in [\"a\", \"b\"]]\n",
    "print(\"Pairs:\", pairs)"
   ]
  },
  {
   "cell_type": "code",
   "execution_count": 14,
   "id": "aef0b95d",
   "metadata": {},
   "outputs": [
    {
     "name": "stdout",
     "output_type": "stream",
     "text": [
      "Word lengths: [5, 4, 5]\n",
      "Codes: [1, 0, 0]\n",
      "Flat: [1, 2, 3, 4, 5, 6]\n",
      "Cleaned: ['chat', 'ask']\n",
      "Reversed: ['pool', 'tsil']\n"
     ]
    }
   ],
   "source": [
    "lengths = [len(word) for word in [\"agent\", \"task\", \"retry\"]]\n",
    "print(\"Word lengths:\", lengths)\n",
    "\n",
    "flags = [\"OK\", \"ERROR\", \"WARN\"]\n",
    "status_codes = [1 if f == \"OK\" else 0 for f in flags]\n",
    "print(\"Codes:\", status_codes)\n",
    "\n",
    "nested = [[1, 2], [3, 4], [5, 6]]\n",
    "flat = [val for sub in nested for val in sub]\n",
    "print(\"Flat:\", flat)\n",
    "\n",
    "commands = [cmd for cmd in [\"chat\", \"\", \"ask\", \"\"] if cmd]\n",
    "print(\"Cleaned:\", commands)\n",
    "\n",
    "reverse_all = [w[::-1] for w in [\"loop\", \"list\"]]\n",
    "print(\"Reversed:\", reverse_all)"
   ]
  },
  {
   "cell_type": "markdown",
   "id": "557d8db4",
   "metadata": {},
   "source": [
    "6. Nested Lists\n",
    "\n",
    "Lists inside lists — used for matrices, trees, tool-step pipelines\n"
   ]
  },
  {
   "cell_type": "code",
   "execution_count": 15,
   "id": "9ab8ba3e",
   "metadata": {},
   "outputs": [
    {
     "name": "stdout",
     "output_type": "stream",
     "text": [
      "Second row, first column: 3\n",
      "1 2 \n",
      "3 4 \n",
      "5 6 \n",
      "Flattened: [1, 2, 3, 4, 5, 6]\n"
     ]
    }
   ],
   "source": [
    "matrix = [\n",
    "    [1, 2],\n",
    "    [3, 4],\n",
    "    [5, 6]\n",
    "]\n",
    "\n",
    "print(\"Second row, first column:\", matrix[1][0])\n",
    "\n",
    "for row in matrix:\n",
    "    for val in row:\n",
    "        print(val, end=\" \")\n",
    "    print()\n",
    "\n",
    "flat = [val for row in matrix for val in row]\n",
    "print(\"Flattened:\", flat)\n"
   ]
  },
  {
   "cell_type": "code",
   "execution_count": 16,
   "id": "8546cba3",
   "metadata": {},
   "outputs": [
    {
     "name": "stdout",
     "output_type": "stream",
     "text": [
      "Step group: ['load_model']\n",
      "Step group: ['parse', 'filter']\n",
      "Step group: ['respond']\n"
     ]
    }
   ],
   "source": [
    "agent_steps = [\n",
    "    [\"load_model\"],\n",
    "    [\"parse\", \"filter\"],\n",
    "    [\"respond\"]\n",
    "]\n",
    "\n",
    "for step in agent_steps:\n",
    "    print(\"Step group:\", step)"
   ]
  },
  {
   "cell_type": "code",
   "execution_count": 17,
   "id": "db5da836",
   "metadata": {},
   "outputs": [
    {
     "name": "stdout",
     "output_type": "stream",
     "text": [
      "[['load_model'], ['tokenize', 'filter'], ['respond']]\n"
     ]
    }
   ],
   "source": [
    "# Modify nested\n",
    "agent_steps[1][0] = \"tokenize\"\n",
    "print(agent_steps)"
   ]
  },
  {
   "cell_type": "code",
   "execution_count": 19,
   "id": "b8225cbc",
   "metadata": {},
   "outputs": [
    {
     "name": "stdout",
     "output_type": "stream",
     "text": [
      "Flattened steps: ['load_model', 'tokenize', 'filter', 'respond']\n",
      "First: load_model Last: respond\n",
      "[['load_model'], ['filter', 'tokenize'], ['respond']]\n"
     ]
    }
   ],
   "source": [
    "# Flatten\n",
    "flattened = []\n",
    "for group in agent_steps:\n",
    "    flattened.extend(group)\n",
    "print(\"Flattened steps:\", flattened)\n",
    "\n",
    "# Nested access\n",
    "first = agent_steps[0][0]\n",
    "last = agent_steps[-1][-1]\n",
    "print(\"First:\", first, \"Last:\", last)\n",
    "\n",
    "# Reverse inner lists\n",
    "reversed_steps = [step[::-1] for step in agent_steps]\n",
    "print(reversed_steps)"
   ]
  },
  {
   "cell_type": "markdown",
   "id": "613bac53",
   "metadata": {},
   "source": [
    "Summary:\n",
    "- Lists are mutable, ordered, and iterable\n",
    "- Ideal for queues, logs, states in AI pipelines\n",
    "- Comprehensions simplify logic\n",
    "- Nested lists power tool trees and memory states\n"
   ]
  }
 ],
 "metadata": {
  "kernelspec": {
   "display_name": "base",
   "language": "python",
   "name": "python3"
  },
  "language_info": {
   "codemirror_mode": {
    "name": "ipython",
    "version": 3
   },
   "file_extension": ".py",
   "mimetype": "text/x-python",
   "name": "python",
   "nbconvert_exporter": "python",
   "pygments_lexer": "ipython3",
   "version": "3.12.7"
  }
 },
 "nbformat": 4,
 "nbformat_minor": 5
}

{
 "cells": [
  {
   "cell_type": "markdown",
   "id": "4aab362f",
   "metadata": {},
   "source": [
    "Topics Covered:\n",
    "1. Hello World\n",
    "2. Variables and Data Types\n",
    "3. Input / Output\n",
    "4. Type Conversion\n"
   ]
  },
  {
   "cell_type": "code",
   "execution_count": 1,
   "id": "586f79c5",
   "metadata": {},
   "outputs": [
    {
     "name": "stdout",
     "output_type": "stream",
     "text": [
      "Hello, AI Agent!\n",
      "Hello, Agent! Welcome to GenAI World\n"
     ]
    }
   ],
   "source": [
    "#Use Case in GenAI: Displaying responses, logging agent output, chatbot replies.\n",
    "print(\"Hello, AI Agent!\") \n",
    "\n",
    "# Example 2: Print multiple strings\n",
    "print(\"Hello, Agent!\", \"Welcome to GenAI World\")"
   ]
  },
  {
   "cell_type": "code",
   "execution_count": 2,
   "id": "033d56f1",
   "metadata": {},
   "outputs": [
    {
     "name": "stdout",
     "output_type": "stream",
     "text": [
      "Hello Vishnu\n"
     ]
    }
   ],
   "source": [
    "# Example 3: Using variables in print\n",
    "name = \"Vishnu\"\n",
    "print(\"Hello\", name)"
   ]
  },
  {
   "cell_type": "code",
   "execution_count": 3,
   "id": "56e7c873",
   "metadata": {},
   "outputs": [
    {
     "name": "stdout",
     "output_type": "stream",
     "text": [
      "42\n",
      "Score: 50\n"
     ]
    }
   ],
   "source": [
    "# Example 4: Print numbers\n",
    "print(42)\n",
    "\n",
    "\n",
    "# Example 5: Print expressions\n",
    "print(\"Score:\", 20 + 30)"
   ]
  },
  {
   "cell_type": "code",
   "execution_count": 4,
   "id": "207ea896",
   "metadata": {},
   "outputs": [
    {
     "name": "stdout",
     "output_type": "stream",
     "text": [
      "Agent's response: \"OK\"\n",
      "\n",
      "Agent Started...\n",
      "Initializing Tools...\n",
      "Done!\n",
      "\n"
     ]
    }
   ],
   "source": [
    "# Example 6: Print special characters\n",
    "print(\"Agent\\'s response: \\\"OK\\\"\")\n",
    "\n",
    "# Example 7: Multiline print\n",
    "print(\"\"\"\n",
    "Agent Started...\n",
    "Initializing Tools...\n",
    "Done!\n",
    "\"\"\")"
   ]
  },
  {
   "cell_type": "code",
   "execution_count": 5,
   "id": "5269ab25",
   "metadata": {},
   "outputs": [
    {
     "name": "stdout",
     "output_type": "stream",
     "text": [
      "This agent is powered by Python\n",
      "🤖 Agent: Ready to assist you!\n",
      "[LOG] Agent 'SmartBot' initialized.\n"
     ]
    }
   ],
   "source": [
    "# Example 8: Print using f-string\n",
    "#F-strings, or formatted string literals,that provide a concise and readable way to embed expressions inside string literals. \n",
    "language = \"Python\"\n",
    "print(f\"This agent is powered by {language}\")\n",
    "\n",
    "\n",
    "# Example 9: Unicode / Emoji (for chat UIs)\n",
    "print(\"🤖 Agent: Ready to assist you!\")\n",
    "\n",
    "# %%\n",
    "# Example 10: Print debug-style message\n",
    "agent_name = \"SmartBot\"\n",
    "print(f\"[LOG] Agent '{agent_name}' initialized.\")\n"
   ]
  },
  {
   "cell_type": "markdown",
   "id": "e2bb1e06",
   "metadata": {},
   "source": [
    "Summary:\n",
    "- `print()` is your best friend for debugging and agent interaction\n",
    "- You can use strings, numbers, f-strings, expressions\n",
    "- Emulate chatbot replies, logs, and status updates"
   ]
  },
  {
   "cell_type": "markdown",
   "id": "576d9a0e",
   "metadata": {},
   "source": [
    "2. Variables and Data Types\n",
    "Variables are like containers in an agent’s memory. They hold user inputs, messages, intermediate results.\n",
    "\n",
    "In GenAI & Agent building:\n",
    "- Store user queries\n",
    "- Manage session history\n",
    "- Hold model parameters or configuration\n",
    "\n",
    "Basic Types:\n",
    "- `int` → numbers\n",
    "- `float` → decimal numbers\n",
    "- `str` → text\n",
    "- `bool` → true/false\n",
    "- `None` → absence of value\n"
   ]
  },
  {
   "cell_type": "code",
   "execution_count": 6,
   "id": "3498754c",
   "metadata": {},
   "outputs": [
    {
     "name": "stdout",
     "output_type": "stream",
     "text": [
      "Agent age: 25\n",
      "Model accuracy: 92.5\n",
      "Agent name is tejBot\n",
      "Is agent online? True\n",
      "Memory initialized: None\n"
     ]
    }
   ],
   "source": [
    "# Example 1: Integer variable\n",
    "age = 25\n",
    "print(\"Agent age:\", age)\n",
    "\n",
    "\n",
    "# Example 2: Float variable\n",
    "accuracy = 92.5\n",
    "print(\"Model accuracy:\", accuracy)\n",
    "\n",
    "\n",
    "# Example 3: String variable\n",
    "agent_name = \"tejBot\"\n",
    "print(\"Agent name is\", agent_name)\n",
    "\n",
    "\n",
    "# Example 4: Boolean value\n",
    "is_online = True\n",
    "print(\"Is agent online?\", is_online)\n",
    "\n",
    "\n",
    "# Example 5: None (no value yet)\n",
    "memory = None\n",
    "print(\"Memory initialized:\", memory)"
   ]
  },
  {
   "cell_type": "code",
   "execution_count": 7,
   "id": "3b3d7ddd",
   "metadata": {},
   "outputs": [
    {
     "name": "stdout",
     "output_type": "stream",
     "text": [
      "1 2.0 Three\n",
      "<class 'str'>\n",
      "<class 'float'>\n",
      "Updated name: AgentGPT\n"
     ]
    }
   ],
   "source": [
    "# Example 6: Multiple assignments\n",
    "x, y, z = 1, 2.0, \"Three\"\n",
    "print(x, y, z)\n",
    "\n",
    "\n",
    "# Example 7: Type Checking\n",
    "print(type(agent_name))\n",
    "print(type(accuracy))\n",
    "\n",
    "\n",
    "# Example 8: Reassigning variables\n",
    "agent_name = \"AgentGPT\"\n",
    "print(\"Updated name:\", agent_name)\n"
   ]
  },
  {
   "cell_type": "code",
   "execution_count": 8,
   "id": "5a459c2a",
   "metadata": {},
   "outputs": [
    {
     "name": "stdout",
     "output_type": "stream",
     "text": [
      "Agent performance score: 89%\n",
      "Hello, Alice. Ready to explore AI?\n"
     ]
    }
   ],
   "source": [
    "# Example 9: Using variables in f-strings\n",
    "score = 89\n",
    "print(f\"Agent performance score: {score}%\")\n",
    "\n",
    "\n",
    "# Example 10: Concatenating strings\n",
    "user = \"Alice\"\n",
    "welcome = \"Hello, \" + user + \". Ready to explore AI?\"\n",
    "print(welcome)"
   ]
  },
  {
   "cell_type": "markdown",
   "id": "3f452576",
   "metadata": {},
   "source": [
    "Summary:\n",
    "- Variables help agents **store** temporary information.\n",
    "- Use types correctly: `str` for messages, `bool` for status, `None` for no value.\n",
    "- Agent workflows = passing data between variables."
   ]
  },
  {
   "cell_type": "markdown",
   "id": "d6fce989",
   "metadata": {},
   "source": [
    "3. Input / Output\n",
    "Input helps agents **receive information from users**.\n",
    "Output (`print`) helps agents **respond**.\n",
    "\n",
    "In GenAI context:\n",
    "- Accept user prompt via input()\n",
    "- Display model/tool outputs"
   ]
  },
  {
   "cell_type": "code",
   "execution_count": null,
   "id": "7f5c45ee",
   "metadata": {},
   "outputs": [],
   "source": [
    "\n",
    "name = \"Teja\"  # simulate input\n",
    "# name = input(\"Enter your name: \")\n",
    "print(\"Hello,\", name)  # Output: Hello, Teja\n",
    "\n",
    "\n",
    "prompt = \"info\"  # simulate input\n",
    "# prompt = input(\"What do you want help with? \")\n",
    "print(\"Agent will look into:\", prompt)  # Output: Agent will look into: info\n",
    "\n",
    "\n",
    "num = \"3\"  # simulate input\n",
    "# num = input(\"Enter a number: \")\n",
    "print(\"Doubled: \", int(num) * 2)  # Output: Doubled:  6"
   ]
  },
  {
   "cell_type": "code",
   "execution_count": null,
   "id": "56535f89",
   "metadata": {},
   "outputs": [],
   "source": [
    "# Example 5: Take float input\n",
    "conf = float(input(\"Enter confidence value (0 to 1): \"))\n",
    "print(\"Adjusted Confidence:\", conf * 100, \"%\")\n",
    "#Sample input: 0.84 \n",
    "# Output: Adjusted Confidence: 84.0 %\n",
    "\n",
    "# %%\n",
    "# Example 6: Agent-style greeting\n",
    "person = input(\"Who are you? \")\n",
    "print(f\"🤖 Hello {person}, how can I assist today?\")\n",
    "#Sample input: Ravi \n",
    "# Output: 🤖 Hello Ravi, how can I assist today?\n",
    "\n",
    "# %%\n",
    "# Example 7: Type check with input\n",
    "val = input(\"Type anything: \")\n",
    "print(\"You entered\", val, \"which is type\", type(val))\n",
    "#Sample input: 123\n",
    "#  Output: You entered 123 which is type <class 'str'>\n"
   ]
  },
  {
   "cell_type": "code",
   "execution_count": null,
   "id": "e7a513ba",
   "metadata": {},
   "outputs": [],
   "source": [
    "# Example 8: Input for agent role\n",
    "role = input(\"Choose agent type (chat/search/tools): \")\n",
    "print(f\"Selected: {role.upper()} Agent\")\n",
    "# Sample input: chat\n",
    "# Output: Selected: CHAT Agent\n",
    "\n",
    "\n",
    "# Example 9: Input for debug level\n",
    "level = input(\"Debug level (low, medium, high): \")\n",
    "print(f\"Logging set to {level.upper()}\")\n",
    "#Sample input: medium \n",
    "# Output: Logging set to MEDIUM\n",
    "\n",
    "\n",
    "# Example 10: Reusing input value\n",
    "msg = input(\"Message for AI model: \")\n",
    "print(f\"[LOG] Sending to LLM → {msg}\")\n",
    "#Sample input: Summarize the latest update. \n",
    "# Output: [LOG] Sending to LLM → Summarize the latest update.\n"
   ]
  },
  {
   "cell_type": "markdown",
   "id": "e34c07b2",
   "metadata": {},
   "source": [
    " Summary:\n",
    "- `input()` always returns a **string** → use `int()`, `float()` to convert\n",
    "- Input simulates user prompts, output gives agent response\n",
    "- You can guide agent flow with dynamic input"
   ]
  },
  {
   "cell_type": "markdown",
   "id": "165cbb40",
   "metadata": {},
   "source": [
    "4. Type coversion \n",
    "Agents need to convert between types frequently:\n",
    "- User inputs come as `str`, but models expect `float` or `int`\n",
    "- Boolean checks for conditions (`True/False`)\n",
    "- Convert model scores to string for display\n",
    "\n",
    "### 🧠 Use in Agents:\n",
    "- Convert user input to float for model confidence\n",
    "- Save numeric IDs as strings in logs\n",
    "- Check truth/falsy values for tool triggering"
   ]
  },
  {
   "cell_type": "code",
   "execution_count": 1,
   "id": "38f01a14",
   "metadata": {},
   "outputs": [
    {
     "name": "stdout",
     "output_type": "stream",
     "text": [
      "52\n",
      "85.0\n",
      "Task ID is: 101\n",
      "Confidence: 0.92\n"
     ]
    }
   ],
   "source": [
    "# Example 1: str → int\n",
    "num_str = \"42\"\n",
    "print(int(num_str) + 10)  # → 52\n",
    "\n",
    "\n",
    "# Example 2: str → float\n",
    "prob_str = \"0.85\"\n",
    "print(float(prob_str) * 100)  # → 85.0%\n",
    "\n",
    "\n",
    "# Example 3: int → str\n",
    "task_id = 101\n",
    "print(\"Task ID is: \" + str(task_id))\n",
    "\n",
    "\n",
    "# Example 4: float → str\n",
    "conf = 0.92\n",
    "print(\"Confidence: \" + str(conf))"
   ]
  },
  {
   "cell_type": "code",
   "execution_count": 5,
   "id": "e2881e75",
   "metadata": {},
   "outputs": [
    {
     "name": "stdout",
     "output_type": "stream",
     "text": [
      "Is enabled: True\n",
      "5.75\n",
      "Rounded Score: 92\n",
      "Agent active code: 1\n",
      "Status: False\n",
      "34\n"
     ]
    }
   ],
   "source": [
    "# Example 5: str → bool (non-empty = True)\n",
    "flag = bool(\"yes\")\n",
    "print(\"Is enabled:\", flag)\n",
    "\n",
    "# Example 6: int → float\n",
    "x = 5\n",
    "print(float(x) + 0.75)\n",
    "\n",
    "\n",
    "# Example 7: float → int\n",
    "score = 92.8\n",
    "print(\"Rounded Score:\", int(score))\n",
    "\n",
    "\n",
    "# Example 8: bool → int\n",
    "active = True\n",
    "print(\"Agent active code:\", int(active))\n",
    "\n",
    "\n",
    "# Example 9: bool → str\n",
    "is_online = False\n",
    "print(\"Status:\", str(is_online))\n",
    "\n",
    "\n",
    "# Example 10: str input to float then to int\n",
    "user_input = \"34.7\"\n",
    "as_int = int(float(user_input))\n",
    "print(as_int)"
   ]
  }
 ],
 "metadata": {
  "kernelspec": {
   "display_name": "base",
   "language": "python",
   "name": "python3"
  },
  "language_info": {
   "codemirror_mode": {
    "name": "ipython",
    "version": 3
   },
   "file_extension": ".py",
   "mimetype": "text/x-python",
   "name": "python",
   "nbconvert_exporter": "python",
   "pygments_lexer": "ipython3",
   "version": "3.12.7"
  }
 },
 "nbformat": 4,
 "nbformat_minor": 5
}

{
 "cells": [
  {
   "cell_type": "markdown",
   "id": "45c001c6",
   "metadata": {},
   "source": [
    "Python Error Handling\n",
    "------------------------\n",
    "Error handling is essential for writing reliable and robust applications.\n",
    "Python uses try-except blocks to handle exceptions (runtime errors) gracefully.\n",
    "\n",
    "✅ Topics Covered:\n",
    "1. Basic try-except block\n",
    "2. Catching multiple exceptions\n",
    "3. Using else and finally\n",
    "4. Raising custom exceptions\n",
    "5. Creating your own exception classes\n",
    "6. Logging errors for debugging"
   ]
  },
  {
   "cell_type": "code",
   "execution_count": 1,
   "id": "ff0f342a",
   "metadata": {},
   "outputs": [
    {
     "name": "stdout",
     "output_type": "stream",
     "text": [
      "Invalid integer format\n",
      "Variable not defined\n",
      "Index out of range\n",
      "File not found\n",
      "Module doesn't exist\n"
     ]
    }
   ],
   "source": [
    "# 1️⃣ Basic try-except block\n",
    "# Intermediate Examples:\n",
    "try:\n",
    "    print(int(\"123a\"))\n",
    "except ValueError:\n",
    "    print(\"Invalid integer format\")\n",
    "\n",
    "try:\n",
    "    name = undefined_variable\n",
    "except NameError:\n",
    "    print(\"Variable not defined\")\n",
    "\n",
    "try:\n",
    "    nums = [1, 2, 3]\n",
    "    print(nums[5])\n",
    "except IndexError:\n",
    "    print(\"Index out of range\")\n",
    "\n",
    "# Advanced Examples:\n",
    "try:\n",
    "    file = open(\"non_existent.txt\")\n",
    "except FileNotFoundError:\n",
    "    print(\"File not found\")\n",
    "\n",
    "try:\n",
    "    import nonexistentmodule\n",
    "except ModuleNotFoundError:\n",
    "    print(\"Module doesn't exist\")\n",
    "\n"
   ]
  },
  {
   "cell_type": "code",
   "execution_count": null,
   "id": "95bc6ca3",
   "metadata": {},
   "outputs": [
    {
     "name": "stdout",
     "output_type": "stream",
     "text": [
      "Value or Type error occurred\n",
      "Invalid operation\n",
      "Missing key or index\n"
     ]
    }
   ],
   "source": [
    "# 2️⃣ Catching multiple exceptions\n",
    "# Intermediate Examples:\n",
    "try:\n",
    "    x = int(\"abc\")\n",
    "except (ValueError, TypeError):\n",
    "    print(\"Value or Type error occurred\")\n",
    "\n",
    "try:\n",
    "    y = 10 + \"text\"\n",
    "except (TypeError, NameError):\n",
    "    print(\"Invalid operation\")\n",
    "\n",
    "try:\n",
    "    d = {\"a\": 1}\n",
    "    print(d[\"b\"])\n",
    "except (KeyError, IndexError):\n",
    "    print(\"Missing key or index\")\n",
    "\n",
    "# Advanced Examples:\n",
    "try:\n",
    "    result = int(\"abc\") / 0\n",
    "except (ValueError, ZeroDivisionError):\n",
    "    print(\"Multiple errors handled\")\n",
    "\n",
    "try:\n",
    "    lst = None\n",
    "    lst.append(1)\n",
    "except (AttributeError, TypeError):\n",
    "    print(\"Null or wrong type issue\")\n"
   ]
  },
  {
   "cell_type": "code",
   "execution_count": 3,
   "id": "0744b6cd",
   "metadata": {},
   "outputs": [
    {
     "name": "stdout",
     "output_type": "stream",
     "text": [
      "Computation:  10\n",
      "Success\n",
      "5.0\n",
      "Execution done\n",
      "File closed\n",
      "File write success\n",
      "No error\n",
      "Always executed\n"
     ]
    }
   ],
   "source": [
    "# 3️⃣ Using else and finally\n",
    "# Intermediate Examples:\n",
    "try:\n",
    "    print(\"Computation: \", 5 + 5)\n",
    "except Exception:\n",
    "    print(\"Error\")\n",
    "else:\n",
    "    print(\"Success\")\n",
    "\n",
    "try:\n",
    "    print(10 / 2)\n",
    "except ZeroDivisionError:\n",
    "    print(\"Zero error\")\n",
    "finally:\n",
    "    print(\"Execution done\")\n",
    "\n",
    "try:\n",
    "    file = open(\"test.txt\", \"w\")\n",
    "    file.write(\"Hello\")\n",
    "except IOError:\n",
    "    print(\"IO error\")\n",
    "finally:\n",
    "    file.close()\n",
    "    print(\"File closed\")\n",
    "\n",
    "# Advanced Examples:\n",
    "try:\n",
    "    with open(\"new.txt\", \"w\") as f:\n",
    "        f.write(\"test\")\n",
    "except Exception:\n",
    "    print(\"Write failed\")\n",
    "else:\n",
    "    print(\"File write success\")\n",
    "\n",
    "try:\n",
    "    result = 1 / 1\n",
    "except ZeroDivisionError:\n",
    "    print(\"Math error\")\n",
    "else:\n",
    "    print(\"No error\")\n",
    "finally:\n",
    "    print(\"Always executed\")\n",
    "\n"
   ]
  },
  {
   "cell_type": "code",
   "execution_count": 4,
   "id": "e21c8cdf",
   "metadata": {},
   "outputs": [
    {
     "name": "stdout",
     "output_type": "stream",
     "text": [
      "Custom type error\n",
      "Generic error\n",
      "Caught: Agent crashed\n"
     ]
    }
   ],
   "source": [
    "# 4️⃣ Raising custom exceptions\n",
    "# Intermediate Examples:\n",
    "def set_age(age):\n",
    "    if age < 0:\n",
    "        raise ValueError(\"Negative age\")\n",
    "set_age(5)\n",
    "\n",
    "try:\n",
    "    raise TypeError(\"Custom type error\")\n",
    "except TypeError as e:\n",
    "    print(e)\n",
    "\n",
    "try:\n",
    "    x = -1\n",
    "    if x < 0:\n",
    "        raise Exception(\"Generic error\")\n",
    "except Exception as e:\n",
    "    print(e)\n",
    "\n",
    "# Advanced Examples:\n",
    "def check_email(email):\n",
    "    if \"@\" not in email:\n",
    "        raise ValueError(\"Invalid email\")\n",
    "check_email(\"user@ai.com\")\n",
    "\n",
    "try:\n",
    "    raise RuntimeError(\"Agent crashed\")\n",
    "except RuntimeError as e:\n",
    "    print(\"Caught:\", e)\n",
    "\n"
   ]
  },
  {
   "cell_type": "code",
   "execution_count": 5,
   "id": "57b1c226",
   "metadata": {},
   "outputs": [
    {
     "name": "stdout",
     "output_type": "stream",
     "text": [
      "Tool 'summarizer' not found.\n",
      "Tool input error: Missing fields\n",
      "Advanced agent error: Too many agent requests\n"
     ]
    }
   ],
   "source": [
    "# 5️⃣ Custom Exception Class\n",
    "class AgentError(Exception):\n",
    "    pass\n",
    "\n",
    "class ToolNotFoundError(AgentError):\n",
    "    def __init__(self, tool_name):\n",
    "        self.tool_name = tool_name\n",
    "        super().__init__(f\"Tool '{tool_name}' not found.\")\n",
    "\n",
    "# Intermediate Examples:\n",
    "try:\n",
    "    raise ToolNotFoundError(\"summarizer\")\n",
    "except ToolNotFoundError as e:\n",
    "    print(e)\n",
    "\n",
    "class InvalidToolInput(AgentError):\n",
    "    pass\n",
    "\n",
    "try:\n",
    "    raise InvalidToolInput(\"Missing fields\")\n",
    "except InvalidToolInput as e:\n",
    "    print(\"Tool input error:\", e)\n",
    "\n",
    "# Advanced Examples:\n",
    "class AgentLimitError(AgentError):\n",
    "    def __init__(self):\n",
    "        super().__init__(\"Too many agent requests\")\n",
    "\n",
    "try:\n",
    "    raise AgentLimitError()\n",
    "except AgentLimitError as e:\n",
    "    print(\"Advanced agent error:\", e)\n",
    "\n",
    "\n"
   ]
  },
  {
   "cell_type": "code",
   "execution_count": null,
   "id": "deb7c29a",
   "metadata": {},
   "outputs": [],
   "source": [
    "# 6️⃣ Logging errors\n",
    "import logging\n",
    "logging.basicConfig(level=logging.ERROR)\n",
    "\n",
    "# Intermediate Examples:\n",
    "try:\n",
    "    1 / 0\n",
    "except ZeroDivisionError as e:\n",
    "    logging.error(\"ZeroDivisionError occurred\", exc_info=True)\n",
    "\n",
    "try:\n",
    "    print(undefined_var)\n",
    "except NameError as e:\n",
    "    logging.error(\"NameError:\", exc_info=True)\n",
    "\n",
    "try:\n",
    "    int(\"notanint\")\n",
    "except ValueError as e:\n",
    "    logging.error(\"ValueError:\", exc_info=True)\n",
    "\n",
    "# Advanced Examples:\n",
    "def risky_task():\n",
    "    raise RuntimeError(\"Something failed\")\n",
    "\n",
    "try:\n",
    "    risky_task()\n",
    "except Exception as e:\n",
    "    logging.exception(\"Critical error occurred\")\n",
    "\n",
    "try:\n",
    "    open(\"no_file.txt\")\n",
    "except FileNotFoundError as e:\n",
    "    logging.error(\"File not found\", exc_info=True)\n"
   ]
  },
  {
   "cell_type": "markdown",
   "id": "dbc7d60a",
   "metadata": {},
   "source": [
    "Summary: When to Use\n",
    "------------------------\n",
    "- Use `try-except` to prevent your program from crashing due to unexpected input or failures.\n",
    "- Use `finally` for clean-up code (like closing files, releasing resources).\n",
    "- Use custom exceptions for domain-specific error signaling (e.g., ToolNotFoundError).\n",
    "- ✅ In GenAI: Useful in APIs, agent pipelines, or file/network interactions to recover from failures.\n",
    "\"\"\""
   ]
  }
 ],
 "metadata": {
  "kernelspec": {
   "display_name": "base",
   "language": "python",
   "name": "python3"
  },
  "language_info": {
   "codemirror_mode": {
    "name": "ipython",
    "version": 3
   },
   "file_extension": ".py",
   "mimetype": "text/x-python",
   "name": "python",
   "nbconvert_exporter": "python",
   "pygments_lexer": "ipython3",
   "version": "3.12.7"
  }
 },
 "nbformat": 4,
 "nbformat_minor": 5
}

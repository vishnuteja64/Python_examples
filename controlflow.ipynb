{
 "cells": [
  {
   "cell_type": "markdown",
   "id": "e870b6f4",
   "metadata": {},
   "source": [
    "#01 - Control Flow in Python (Conditions for Agents)\n",
    "\n",
    "### Why this matters for GenAI & Agent Developers:\n",
    "- Agents make **decisions**: choose tools, pick actions, branch logic\n",
    "- You need to **control what happens when**\n",
    "\n",
    "#Topics Covered:\n",
    "1. `if`, `elif`, `else`\n",
    "2. Comparison & Logical Operators\n",
    "3. `match-case`\n",
    "4. Ternary Operator"
   ]
  },
  {
   "cell_type": "code",
   "execution_count": null,
   "id": "c6df1cf7",
   "metadata": {},
   "outputs": [
    {
     "name": "stdout",
     "output_type": "stream",
     "text": [
      "Agent is active\n",
      "Process text\n",
      "Using chat mode\n",
      "Both conditions true\n",
      "Full access granted\n"
     ]
    }
   ],
   "source": [
    "\n",
    "\n",
    "\n",
    "\n",
    "# %% [markdown]\n",
    "# ✅ 1. if, elif, else\n",
    "\n",
    "\n",
    "# Example 1: Basic if\n",
    "status = \"active\"\n",
    "if status == \"active\":\n",
    "    print(\"Agent is active\")\n",
    "\n",
    "# Example 2: if-else\n",
    "input_type = \"text\"\n",
    "if input_type == \"image\":\n",
    "    print(\"Process image\")\n",
    "else:\n",
    "    print(\"Process text\")\n",
    "\n",
    "# Example 3: if-elif-else\n",
    "mode = \"chat\"\n",
    "if mode == \"search\":\n",
    "    print(\"Using search tool\")\n",
    "elif mode == \"chat\":\n",
    "    print(\"Using chat mode\")\n",
    "else:\n",
    "    print(\"Invalid mode\")\n",
    "\n",
    "# Example 4: multiple conditions\n",
    "x = 5\n",
    "y = 10\n",
    "if x < 10 and y > 5:\n",
    "    print(\"Both conditions true\")\n",
    "\n",
    "# Example 5: nested if\n",
    "user = \"admin\"\n",
    "level = 3\n",
    "if user == \"admin\":\n",
    "    if level > 2:\n",
    "        print(\"Full access granted\")\n",
    "\n",
    "\n",
    "\n"
   ]
  },
  {
   "cell_type": "code",
   "execution_count": 2,
   "id": "549c8545",
   "metadata": {},
   "outputs": [
    {
     "name": "stdout",
     "output_type": "stream",
     "text": [
      "True\n",
      "False\n",
      "True\n",
      "True\n",
      "Permission granted\n"
     ]
    }
   ],
   "source": [
    "# ✅ 2. Comparison & Logical Operators\n",
    "\n",
    "# Comparison operators\n",
    "# ==, !=, >, <, >=, <=\n",
    "score = 87\n",
    "print(score >= 85)  # True\n",
    "\n",
    "# and, or, not\n",
    "is_ready = True\n",
    "is_online = False\n",
    "print(is_ready and is_online)  # False\n",
    "print(is_ready or is_online)   # True\n",
    "print(not is_online)           # True\n",
    "\n",
    "# Compound logic\n",
    "user = \"tester\"\n",
    "access = 2\n",
    "if user == \"admin\" or access > 1:\n",
    "    print(\"Permission granted\")\n",
    "\n",
    "\n"
   ]
  },
  {
   "cell_type": "code",
   "execution_count": 3,
   "id": "26ec21fe",
   "metadata": {},
   "outputs": [
    {
     "name": "stdout",
     "output_type": "stream",
     "text": [
      "Tool access mode\n"
     ]
    }
   ],
   "source": [
    "# ✅ 3. match-case (Python 3.10+)\n",
    "\n",
    "# Example of match-case\n",
    "role = \"tool\"\n",
    "match role:\n",
    "    case \"chat\":\n",
    "        print(\"Chat mode\")\n",
    "    case \"tool\":\n",
    "        print(\"Tool access mode\")\n",
    "    case _:\n",
    "        print(\"Unknown role\")"
   ]
  },
  {
   "cell_type": "code",
   "execution_count": 4,
   "id": "9ea248ab",
   "metadata": {},
   "outputs": [
    {
     "name": "stdout",
     "output_type": "stream",
     "text": [
      "Min is 10\n",
      "Prompt type: retry\n"
     ]
    }
   ],
   "source": [
    "# ✅ 4. Ternary Operator\n",
    "\n",
    "x = 20\n",
    "y = 10\n",
    "min_val = x if x < y else y\n",
    "print(\"Min is\", min_val)\n",
    "\n",
    "# Another example\n",
    "response = \"\"\n",
    "prompt_type = \"retry\" if response == \"\" else \"proceed\"\n",
    "print(\"Prompt type:\", prompt_type)\n"
   ]
  },
  {
   "cell_type": "markdown",
   "id": "b352b370",
   "metadata": {},
   "source": [
    " 📌 Summary:\n",
    "- `if`, `elif`, `else` lets agents branch logic\n",
    "- Use `and`, `or`, `not` for multiple conditions\n",
    "- `match-case` = modern switch-style handling\n",
    "- Ternary is great for quick assignments\n"
   ]
  }
 ],
 "metadata": {
  "kernelspec": {
   "display_name": "base",
   "language": "python",
   "name": "python3"
  },
  "language_info": {
   "codemirror_mode": {
    "name": "ipython",
    "version": 3
   },
   "file_extension": ".py",
   "mimetype": "text/x-python",
   "name": "python",
   "nbconvert_exporter": "python",
   "pygments_lexer": "ipython3",
   "version": "3.12.7"
  }
 },
 "nbformat": 4,
 "nbformat_minor": 5
}

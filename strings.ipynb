{
 "cells": [
  {
   "cell_type": "markdown",
   "id": "c4b63614",
   "metadata": {},
   "source": [
    "04 - Strings in Python (Text Handling for Agents & GenAI)\n",
    "\n",
    "### 🎯 Why Strings Matter:\n",
    "- Agent prompts and responses are strings\n",
    "- Parsing documents, chat logs, user input → all strings\n",
    "- Most LLM applications start with: **text**\n",
    "\n",
    "Topics Covered:\n",
    "1. String creation and types\n",
    "2. String methods\n",
    "3. String formatting (f-strings)\n",
    "4. Slicing & indexing\n",
    "5. Membership and loops\n",
    "6. Multi-line and escaping\n",
    "\n"
   ]
  },
  {
   "cell_type": "code",
   "execution_count": 2,
   "id": "107ea88c",
   "metadata": {},
   "outputs": [
    {
     "name": "stdout",
     "output_type": "stream",
     "text": [
      "Agent Assistant\n",
      "This is a\n",
      "multi-line agent\n",
      "response.\n",
      "Hello, Neo\n",
      "Version: 4.0\n"
     ]
    }
   ],
   "source": [
    "#1. String Creation\n",
    "\n",
    "# Single quotes, double quotes\n",
    "s1 = 'Agent'\n",
    "s2 = \"Assistant\"\n",
    "print(s1, s2)\n",
    "\n",
    "# Multiline string\n",
    "desc = '''This is a\n",
    "multi-line agent\n",
    "response.'''\n",
    "print(desc)\n",
    "\n",
    "# String from variable\n",
    "name = \"Neo\"\n",
    "greet = \"Hello, \" + name\n",
    "print(greet)\n",
    "\n",
    "# Using str() to convert\n",
    "version = 4.0\n",
    "info = \"Version: \" + str(version)\n",
    "print(info)"
   ]
  },
  {
   "cell_type": "code",
   "execution_count": 6,
   "id": "72a1d18e",
   "metadata": {},
   "outputs": [
    {
     "name": "stdout",
     "output_type": "stream",
     "text": [
      "how can I help you?\n",
      "['how', 'can', 'I', 'help', 'you?']\n",
      "  HOW CAN I HELP YOU?  \n",
      "  how can i help you?  \n",
      "  How Can I Help You?  \n",
      "  how can I assist you?  \n",
      "23\n",
      "False\n",
      "how, can, I, assist, you?\n",
      "2\n",
      "17\n",
      "True\n",
      "True\n"
     ]
    }
   ],
   "source": [
    "#2. String Methods\n",
    "\n",
    "# String methods are functions that operate on strings.\n",
    "prompt = \"  how can I help you?  \"\n",
    "\n",
    "# Strip spaces\n",
    "print(prompt.strip())\n",
    "\n",
    "# Split into words\n",
    "print(prompt.split())\n",
    "\n",
    "# Upper/lower/title case\n",
    "print(prompt.upper())\n",
    "print(prompt.lower())\n",
    "print(prompt.title())\n",
    "\n",
    "# Replace\n",
    "print(prompt.replace(\"help\", \"assist\"))\n",
    "\n",
    "# Check length\n",
    "print(len(prompt))\n",
    "\n",
    "# Check if string is alphanumeric\n",
    "print(prompt.isalnum())  # False, because of spaces and punctuation\n",
    "\n",
    "# Join with a separator\n",
    "print(\", \".join([\"how\", \"can\", \"I\", \"assist\", \"you?\"]))\n",
    "\n",
    "\n",
    "# Count & find\n",
    "print(prompt.count(\"h\"))\n",
    "print(prompt.find(\"you\"))\n",
    "\n",
    "# Find index of a substring\n",
    "index = prompt.find(\"help\") \n",
    "\n",
    "# Startswith/endswith\n",
    "print(prompt.startswith(\"  how\"))\n",
    "print(prompt.endswith(\"you?  \"))\n"
   ]
  },
  {
   "cell_type": "code",
   "execution_count": 7,
   "id": "cfb4f03f",
   "metadata": {},
   "outputs": [
    {
     "name": "stdout",
     "output_type": "stream",
     "text": [
      "Agent Trinity will now fetch documents.\n",
      "Total tasks: 5\n",
      "|Trinity   | aligned left\n",
      "|   Trinity| aligned right\n"
     ]
    }
   ],
   "source": [
    "#3. String Formatting\n",
    "\n",
    "# String formatting allows you to create dynamic strings with variables.\n",
    "name = \"Trinity\"\n",
    "task = \"fetch documents\"\n",
    "\n",
    "# Using f-strings\n",
    "msg = f\"Agent {name} will now {task}.\"\n",
    "print(msg)\n",
    "\n",
    "# With variables inside expressions\n",
    "num_tasks = 3\n",
    "print(f\"Total tasks: {num_tasks + 2}\")\n",
    "\n",
    "# Justify/pad text\n",
    "print(f\"|{name:<10}| aligned left\")\n",
    "print(f\"|{name:>10}| aligned right\")"
   ]
  },
  {
   "cell_type": "code",
   "execution_count": 9,
   "id": "8a271e80",
   "metadata": {},
   "outputs": [
    {
     "name": "stdout",
     "output_type": "stream",
     "text": [
      "L\n",
      "n\n",
      "Lang\n",
      "Chain\n",
      "LangChain\n",
      "niahCgnaL\n",
      "LnCan\n",
      "aghi\n",
      "hain\n"
     ]
    }
   ],
   "source": [
    "#4. Indexing & Slicing\n",
    "\n",
    "# Indexing and slicing are powerful ways to access parts of a string.\n",
    "text = \"LangChain\"\n",
    "\n",
    "# Index\n",
    "print(text[0])     # L\n",
    "print(text[-1])    # n\n",
    "\n",
    "# Slice\n",
    "print(text[0:4])   # Lang\n",
    "print(text[4:])    # Chain\n",
    "print(text[:])     # full string\n",
    "print(text[::-1])  # reverse string\n",
    "\n",
    "# Slice with step\n",
    "print(text[::2])   # LgCa   \n",
    "print(text[1::2])  # anhn\n",
    "\n",
    "# Slice with negative indices\n",
    "print(text[-4:])   # Chain"
   ]
  },
  {
   "cell_type": "code",
   "execution_count": 10,
   "id": "54f4625d",
   "metadata": {},
   "outputs": [
    {
     "name": "stdout",
     "output_type": "stream",
     "text": [
      "True\n",
      "True\n",
      "O p e n A I Word: agent\n",
      "Word: tools\n",
      "Word: prompt\n",
      "Word: context\n"
     ]
    }
   ],
   "source": [
    "#5. Membership & Looping\n",
    "\n",
    "# Membership & Looping\n",
    "data = \"OpenAI\"\n",
    "\n",
    "# in / not in\n",
    "print(\"A\" in data)       # True\n",
    "print(\"z\" not in data)   # True\n",
    "\n",
    "# Loop over characters\n",
    "for char in data:\n",
    "    print(char, end=\" \")\n",
    "\n",
    "# List of words\n",
    "text = \"agent tools prompt context\"\n",
    "words = text.split()\n",
    "for word in words:\n",
    "    print(\"Word:\", word)"
   ]
  },
  {
   "cell_type": "code",
   "execution_count": 11,
   "id": "8877b9fc",
   "metadata": {},
   "outputs": [
    {
     "name": "stdout",
     "output_type": "stream",
     "text": [
      "This is\n",
      "a multi-line\n",
      "string.\n",
      "He said, \"Use \"quotes\" wisely.\"\n",
      "Tool 1\n",
      "Tool 2\n",
      "Tool 3\n"
     ]
    }
   ],
   "source": [
    "#6. Multiline & Escape Sequences\n",
    "\n",
    "\n",
    "\n",
    "# Multiline string\n",
    "multiline = \"\"\"This is\n",
    "a multi-line\n",
    "string.\"\"\"\n",
    "print(multiline)\n",
    "\n",
    "# Escape sequences\n",
    "quote = 'He said, \"Use \\\"quotes\\\" wisely.\"'\n",
    "print(quote)\n",
    "\n",
    "newline_example = \"Tool 1\\nTool 2\\nTool 3\"\n",
    "print(newline_example)"
   ]
  },
  {
   "cell_type": "markdown",
   "id": "8c0c04f5",
   "metadata": {},
   "source": [
    "Summary:\n",
    "- Strings are everywhere in GenAI/agent workflows\n",
    "- Use built-in methods to clean, extract, format\n",
    "- Mastering strings = mastering prompts & responses"
   ]
  }
 ],
 "metadata": {
  "kernelspec": {
   "display_name": "base",
   "language": "python",
   "name": "python3"
  },
  "language_info": {
   "codemirror_mode": {
    "name": "ipython",
    "version": 3
   },
   "file_extension": ".py",
   "mimetype": "text/x-python",
   "name": "python",
   "nbconvert_exporter": "python",
   "pygments_lexer": "ipython3",
   "version": "3.12.7"
  }
 },
 "nbformat": 4,
 "nbformat_minor": 5
}

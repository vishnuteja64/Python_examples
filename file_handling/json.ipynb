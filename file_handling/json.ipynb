{
 "cells": [
  {
   "cell_type": "markdown",
   "id": "1eefd28d",
   "metadata": {},
   "source": [
    "JSON Handling in Python\n",
    "---------------------------\n",
    "JSON (JavaScript Object Notation) is widely used to exchange data between clients and servers. Python has built-in support using the `json` module.\n",
    "\n",
    "🗂️ Sample Files:\n",
    "- data.json\n",
    "  > {\"name\": \"Alice\", \"age\": 25, \"skills\": [\"Python\", \"ML\"]}\n",
    "\n",
    "- tasks.json\n",
    "  > [{\"task\": \"Write report\", \"status\": \"done\"}, {\"task\": \"Train model\", \"status\": \"pending\"}]\n",
    "\"\"\"\n"
   ]
  },
  {
   "cell_type": "code",
   "execution_count": null,
   "id": "43a390e2",
   "metadata": {
    "vscode": {
     "languageId": "plaintext"
    }
   },
   "outputs": [],
   "source": [
    "import json\n",
    "\n",
    "# 1️⃣ Reading JSON from File\n",
    "with open(\"data.json\", \"r\") as file:\n",
    "    data = json.load(file)\n",
    "    print(\"[Parsed JSON]:\", data)\n",
    "\n",
    "# 2️⃣ Writing JSON to File\n",
    "new_data = {\"project\": \"AgentX\", \"version\": 1.0}\n",
    "with open(\"project.json\", \"w\") as file:\n",
    "    json.dump(new_data, file, indent=2)\n",
    "\n",
    "# 3️⃣ Converting Between JSON and Python\n",
    "json_str = '{\"framework\": \"LangChain\", \"features\": [\"chat\", \"memory\"]}'\n",
    "parsed = json.loads(json_str)\n",
    "print(\"[From String]:\", parsed)\n",
    "\n",
    "python_dict = {\"name\": \"Agent\", \"active\": True}\n",
    "as_json = json.dumps(python_dict)\n",
    "print(\"[To JSON string]:\", as_json)\n",
    "\n",
    "# 4️⃣ Accessing and Modifying JSON\n",
    "with open(\"data.json\", \"r\") as file:\n",
    "    data = json.load(file)\n",
    "    print(\"[Name]:\", data[\"name\"])\n",
    "    data[\"age\"] += 1\n",
    "\n",
    "with open(\"data.json\", \"w\") as file:\n",
    "    json.dump(data, file, indent=2)\n",
    "\n",
    "# 5️⃣ Working with Lists in JSON\n",
    "with open(\"tasks.json\", \"r\") as file:\n",
    "    tasks = json.load(file)\n",
    "    for t in tasks:\n",
    "        print(f\"Task: {t['task']}, Status: {t['status']}\")\n",
    "\n",
    "# 6️⃣ Filtering Tasks\n",
    "pending = [t for t in tasks if t[\"status\"] == \"pending\"]\n",
    "print(\"[Pending Tasks]:\", pending)\n",
    "\n",
    "# 7️⃣ Add New Task and Save\n",
    "new_task = {\"task\": \"Evaluate results\", \"status\": \"in-progress\"}\n",
    "tasks.append(new_task)\n",
    "with open(\"tasks.json\", \"w\") as file:\n",
    "    json.dump(tasks, file, indent=2)\n",
    "\n",
    "# 8️⃣ GenAI / Agent Use Cases\n",
    "# Save embeddings, configs, metadata\n",
    "agent_state = {\n",
    "    \"agent_id\": \"agent_001\",\n",
    "    \"memory\": [\"Hi\", \"Hello\"],\n",
    "    \"embeddings\": [[0.1, 0.2], [0.3, 0.4]]\n",
    "}\n",
    "\n",
    "with open(\"agent_state.json\", \"w\") as file:\n",
    "    json.dump(agent_state, file, indent=2)\n",
    "\n",
    "# Load back and continue\n",
    "with open(\"agent_state.json\") as file:\n",
    "    loaded = json.load(file)\n",
    "    print(\"[Reloaded Agent ID]:\", loaded[\"agent_id\"])\n",
    "\n",
    "print(\"✅ JSON handling demo completed.\")\n"
   ]
  }
 ],
 "metadata": {
  "language_info": {
   "name": "python"
  }
 },
 "nbformat": 4,
 "nbformat_minor": 5
}

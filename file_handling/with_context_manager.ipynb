{
 "cells": [
  {
   "cell_type": "markdown",
   "id": "9a6ab7fd",
   "metadata": {},
   "source": [
    "with_context_manager\n",
    "File Handling with Context Managers\n",
    "--------------------------------------\n",
    "The `with` statement in Python ensures proper acquisition and release of file resources,\n",
    "which is especially useful in I/O operations and agent workflows where many files/logs are opened/closed frequently.\n",
    "\n",
    "🎯 Why use context managers?\n",
    "- Automatically closes files\n",
    "- Handles exceptions more safely\n",
    "- Cleaner and more readable code\n",
    "\"\"\""
   ]
  },
  {
   "cell_type": "code",
   "execution_count": null,
   "id": "c8f983cf",
   "metadata": {
    "vscode": {
     "languageId": "plaintext"
    }
   },
   "outputs": [],
   "source": [
    "# 1️⃣ Basic File Open with Context\n",
    "with open(\"log.txt\", \"w\") as file:\n",
    "    file.write(\"Agent started at 10:00 AM\\n\")\n",
    "\n",
    "# 2️⃣ Reading Safely\n",
    "with open(\"log.txt\", \"r\") as file:\n",
    "    print(\"[Log Contents]:\", file.read())\n",
    "\n",
    "# 3️⃣ Context Manager for Writing Multiple Files\n",
    "files = [\"file1.txt\", \"file2.txt\"]\n",
    "for fname in files:\n",
    "    with open(fname, \"w\") as f:\n",
    "        f.write(f\"Content for {fname}\\n\")\n",
    "\n",
    "# 4️⃣ Reading Multiple Files\n",
    "for fname in files:\n",
    "    with open(fname) as f:\n",
    "        print(f\"[{fname}] ->\", f.read())\n",
    "\n",
    "# 5️⃣ Custom Context Manager using class\n",
    "class FileLogger:\n",
    "    def __init__(self, path):\n",
    "        self.path = path\n",
    "    def __enter__(self):\n",
    "        self.file = open(self.path, \"a\")\n",
    "        self.file.write(\"--- Log Start ---\\n\")\n",
    "        return self.file\n",
    "    def __exit__(self, exc_type, exc_val, exc_tb):\n",
    "        self.file.write(\"--- Log End ---\\n\")\n",
    "        self.file.close()\n",
    "\n",
    "with FileLogger(\"agent_log_custom.txt\") as log:\n",
    "    log.write(\"Custom logging context.\\n\")\n",
    "\n",
    "# 6️⃣ Custom Context using contextlib\n",
    "from contextlib import contextmanager\n",
    "\n",
    "@contextmanager\n",
    "def open_log(path):\n",
    "    f = open(path, \"a\")\n",
    "    f.write(\"[Session Begin]\\n\")\n",
    "    try:\n",
    "        yield f\n",
    "    finally:\n",
    "        f.write(\"[Session End]\\n\")\n",
    "        f.close()\n",
    "\n",
    "with open_log(\"session_log.txt\") as session:\n",
    "    session.write(\"Action: query search\\n\")\n",
    "\n",
    "# 7️⃣ GenAI / Agent Use Cases\n",
    "# Writing agent logs safely, managing prompt sessions, auto-saving errors\n",
    "\n",
    "with open(\"agent_output.txt\", \"w\") as f:\n",
    "    f.write(\"Generated response saved securely.\\n\")\n",
    "\n",
    "with open(\"error_log.txt\", \"a\") as f:\n",
    "    f.write(\"Error: model timeout at step 3\\n\")\n",
    "\n",
    "print(\"✅ Context manager demo completed.\")\n"
   ]
  }
 ],
 "metadata": {
  "language_info": {
   "name": "python"
  }
 },
 "nbformat": 4,
 "nbformat_minor": 5
}

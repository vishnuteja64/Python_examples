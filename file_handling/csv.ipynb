{
 "cells": [
  {
   "cell_type": "markdown",
   "id": "b86ab702",
   "metadata": {},
   "source": [
    "CSV Handling in Python\n",
    "--------------------------\n",
    "CSV (Comma-Separated Values) is a widely used format for tabular data. Python's built-in `csv` module provides powerful tools to read, write, and manipulate CSV files.\n",
    "\n",
    "🗂️ Sample File: students.csv\n",
    "name,grade,subject\n",
    "Alice,85,Math\n",
    "Bob,78,Science\n",
    "Charlie,92,English\n",
    "\"\"\""
   ]
  },
  {
   "cell_type": "code",
   "execution_count": null,
   "id": "8e3aebfe",
   "metadata": {
    "vscode": {
     "languageId": "plaintext"
    }
   },
   "outputs": [],
   "source": [
    "import csv\n",
    "\n",
    "# 1️⃣ Reading CSV Files (as lists)\n",
    "with open(\"students.csv\", \"r\") as file:\n",
    "    reader = csv.reader(file)\n",
    "    for row in reader:\n",
    "        print(\"[Row]:\", row)\n",
    "\n",
    "# 2️⃣ Skipping Headers\n",
    "with open(\"students.csv\", \"r\") as file:\n",
    "    reader = csv.reader(file)\n",
    "    header = next(reader)\n",
    "    print(\"[Header]:\", header)\n",
    "    for row in reader:\n",
    "        print(\"[Data]:\", row)\n",
    "\n",
    "# 3️⃣ Reading as Dictionaries\n",
    "with open(\"students.csv\", \"r\") as file:\n",
    "    reader = csv.DictReader(file)\n",
    "    for row in reader:\n",
    "        print(f\"{row['name']} got {row['grade']} in {row['subject']}\")\n",
    "\n",
    "# 4️⃣ Writing to CSV File\n",
    "new_rows = [\n",
    "    [\"David\", 88, \"Math\"],\n",
    "    [\"Eva\", 91, \"Science\"]\n",
    "]\n",
    "with open(\"new_students.csv\", \"w\", newline=\"\") as file:\n",
    "    writer = csv.writer(file)\n",
    "    writer.writerow([\"name\", \"grade\", \"subject\"])\n",
    "    writer.writerows(new_rows)\n",
    "\n",
    "# 5️⃣ Writing Using DictWriter\n",
    "students = [\n",
    "    {\"name\": \"Frank\", \"grade\": 83, \"subject\": \"History\"},\n",
    "    {\"name\": \"Grace\", \"grade\": 89, \"subject\": \"Geography\"}\n",
    "]\n",
    "with open(\"students_dict.csv\", \"w\", newline=\"\") as file:\n",
    "    fieldnames = [\"name\", \"grade\", \"subject\"]\n",
    "    writer = csv.DictWriter(file, fieldnames=fieldnames)\n",
    "    writer.writeheader()\n",
    "    writer.writerows(students)\n",
    "\n",
    "# 6️⃣ Filtering and Calculations\n",
    "with open(\"students.csv\", \"r\") as file:\n",
    "    reader = csv.DictReader(file)\n",
    "    scores = [int(row[\"grade\"]) for row in reader]\n",
    "    print(\"[Average Grade]:\", sum(scores) / len(scores))\n",
    "\n",
    "# 7️⃣ Append New Record\n",
    "with open(\"students.csv\", \"a\", newline=\"\") as file:\n",
    "    writer = csv.writer(file)\n",
    "    writer.writerow([\"Helen\", 95, \"Biology\"])\n",
    "\n",
    "# 8️⃣ GenAI / Agent Use Cases\n",
    "# Log structured results like evaluations, responses, or inference traces\n",
    "logs = [\n",
    "    {\"step\": 1, \"action\": \"retrieve\", \"score\": 0.8},\n",
    "    {\"step\": 2, \"action\": \"generate\", \"score\": 0.9}\n",
    "]\n",
    "\n",
    "with open(\"agent_logs.csv\", \"w\", newline=\"\") as file:\n",
    "    writer = csv.DictWriter(file, fieldnames=[\"step\", \"action\", \"score\"])\n",
    "    writer.writeheader()\n",
    "    writer.writerows(logs)\n",
    "\n",
    "print(\"✅ CSV handling demo completed.\")\n"
   ]
  }
 ],
 "metadata": {
  "language_info": {
   "name": "python"
  }
 },
 "nbformat": 4,
 "nbformat_minor": 5
}

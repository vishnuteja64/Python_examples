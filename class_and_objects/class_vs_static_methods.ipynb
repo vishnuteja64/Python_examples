{
 "cells": [
  {
   "cell_type": "markdown",
   "id": "b43e1aba",
   "metadata": {},
   "source": [
    " Class Methods vs Static Methods in Python\n",
    "--------------------------------------------\n",
    "Both are alternative ways to define methods in a class that don't require instance objects:\n",
    "\n",
    "- @classmethod: Takes `cls` as the first argument, used to access or modify the class state.\n",
    "- @staticmethod: Doesn’t take `self` or `cls`, behaves like a plain function inside a class.\n",
    "\n",
    "✅ Topics Covered:\n",
    "1. Basic usage of @classmethod\n",
    "2. Basic usage of @staticmethod\n",
    "3. Use cases in factory creation\n",
    "4. Use in utility/helper functions\n",
    "5. GenAI-specific design use cases\n",
    "\"\"\""
   ]
  },
  {
   "cell_type": "code",
   "execution_count": 1,
   "id": "f6b2bd6e",
   "metadata": {},
   "outputs": [
    {
     "name": "stdout",
     "output_type": "stream",
     "text": [
      "Agent count: 3\n"
     ]
    }
   ],
   "source": [
    "# 1️⃣ Class Method Example\n",
    "class Agent:\n",
    "    agent_count = 0\n",
    "\n",
    "    def __init__(self):\n",
    "        Agent.agent_count += 1\n",
    "\n",
    "    @classmethod\n",
    "    def get_agent_count(cls):\n",
    "        return cls.agent_count\n",
    "\n",
    "# Create a few agents\n",
    "Agent()\n",
    "Agent()\n",
    "Agent()\n",
    "print(\"Agent count:\", Agent.get_agent_count())  # Access via class method"
   ]
  },
  {
   "cell_type": "code",
   "execution_count": 2,
   "id": "5e2c80a6",
   "metadata": {},
   "outputs": [
    {
     "name": "stdout",
     "output_type": "stream",
     "text": [
      "8\n",
      "8\n"
     ]
    }
   ],
   "source": [
    "# 2️⃣ Static Method Example\n",
    "class MathUtils:\n",
    "\n",
    "    @staticmethod\n",
    "    def add(a, b):\n",
    "        return a + b\n",
    "\n",
    "    @staticmethod\n",
    "    def multiply(a, b):\n",
    "        return a * b\n",
    "\n",
    "print(MathUtils.add(3, 5))\n",
    "print(MathUtils.multiply(2, 4))"
   ]
  },
  {
   "cell_type": "code",
   "execution_count": 3,
   "id": "dc2b1aa9",
   "metadata": {},
   "outputs": [
    {
     "name": "stdout",
     "output_type": "stream",
     "text": [
      "Created tool: Summarizer\n",
      "True\n",
      "GENAI\n"
     ]
    }
   ],
   "source": [
    "# 3️⃣ Factory Pattern using Class Method\n",
    "class Tool:\n",
    "    def __init__(self, name):\n",
    "        self.name = name\n",
    "\n",
    "    @classmethod\n",
    "    def from_config(cls, config):\n",
    "        return cls(config[\"tool_name\"])\n",
    "\n",
    "config = {\"tool_name\": \"Summarizer\"}\n",
    "tool = Tool.from_config(config)\n",
    "print(\"Created tool:\", tool.name)\n",
    "\n",
    "\n",
    "# 4️⃣ Helper Methods using Static Methods\n",
    "class StringUtils:\n",
    "\n",
    "    @staticmethod\n",
    "    def is_palindrome(text):\n",
    "        return text == text[::-1]\n",
    "\n",
    "    @staticmethod\n",
    "    def to_uppercase(text):\n",
    "        return text.upper()\n",
    "\n",
    "print(StringUtils.is_palindrome(\"madam\"))\n",
    "print(StringUtils.to_uppercase(\"genai\"))\n",
    "\n"
   ]
  },
  {
   "cell_type": "code",
   "execution_count": 4,
   "id": "33a66e3d",
   "metadata": {},
   "outputs": [
    {
     "name": "stdout",
     "output_type": "stream",
     "text": [
      "Tool name: agent_search\n",
      "Valid name: True\n"
     ]
    }
   ],
   "source": [
    "# 5️⃣ GenAI Use Case: Dynamic Tool Instantiation\n",
    "class GenTool:\n",
    "    def __init__(self, name, model):\n",
    "        self.name = name\n",
    "        self.model = model\n",
    "\n",
    "    @classmethod\n",
    "    def from_dict(cls, d):\n",
    "        return cls(d[\"name\"], d.get(\"model\", \"gpt-4\"))\n",
    "\n",
    "    @staticmethod\n",
    "    def validate_name(name):\n",
    "        return name.isidentifier()\n",
    "\n",
    "config = {\"name\": \"agent_search\", \"model\": \"gpt-4o\"}\n",
    "tool = GenTool.from_dict(config)\n",
    "print(\"Tool name:\", tool.name)\n",
    "print(\"Valid name:\", GenTool.validate_name(tool.name))"
   ]
  },
  {
   "cell_type": "markdown",
   "id": "4737afa7",
   "metadata": {},
   "source": [
    " Summary: When to Use\n",
    "------------------------\n",
    "- Use @classmethod when:\n",
    "  ✅ You need to create or manipulate class-level data or instances (e.g., factory constructors).\n",
    "\n",
    "- Use @staticmethod when:\n",
    "  ✅ Logic doesn’t depend on the instance (`self`) or the class (`cls`). Ideal for helper/util methods.\n",
    "\n",
    "🔍 GenAI Use Cases:\n",
    "- Class methods are excellent for loading tools/models from config dictionaries or templates.\n",
    "- Static methods are useful for input validation, formatting, and data checks in the agent pipeline.\n",
    "\"\"\""
   ]
  }
 ],
 "metadata": {
  "kernelspec": {
   "display_name": "base",
   "language": "python",
   "name": "python3"
  },
  "language_info": {
   "codemirror_mode": {
    "name": "ipython",
    "version": 3
   },
   "file_extension": ".py",
   "mimetype": "text/x-python",
   "name": "python",
   "nbconvert_exporter": "python",
   "pygments_lexer": "ipython3",
   "version": "3.12.7"
  }
 },
 "nbformat": 4,
 "nbformat_minor": 5
}

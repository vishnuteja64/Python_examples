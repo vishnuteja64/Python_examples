{
 "cells": [
  {
   "cell_type": "markdown",
   "id": "8c265c35",
   "metadata": {},
   "source": [
    "Polymorphism in Python\n",
    "--------------------------\n",
    "Polymorphism allows objects of different classes to be treated through a common interface.\n",
    "It promotes flexibility and scalability — key for designing agents, tools, and models with interchangeable behavior.\n",
    "\n",
    "✅ Topics Covered:\n",
    "1. Function polymorphism\n",
    "2. Polymorphism with classes (common interface)\n",
    "3. Duck typing\n",
    "4. Built-in polymorphic functions\n",
    "5. GenAI use cases\n",
    "\"\"\"\n"
   ]
  },
  {
   "cell_type": "code",
   "execution_count": 1,
   "id": "12228779",
   "metadata": {},
   "outputs": [
    {
     "name": "stdout",
     "output_type": "stream",
     "text": [
      "5\n",
      "3\n",
      "2\n"
     ]
    }
   ],
   "source": [
    "# 1️⃣ Function Polymorphism\n",
    "# Same function behaves differently for different types\n",
    "print(len(\"GenAI\"))          # length of string\n",
    "print(len([1, 2, 3]))        # length of list\n",
    "print(len({\"a\": 1, \"b\": 2})) # length of dictionary"
   ]
  },
  {
   "cell_type": "code",
   "execution_count": 2,
   "id": "d079b6ca",
   "metadata": {},
   "outputs": [
    {
     "name": "stdout",
     "output_type": "stream",
     "text": [
      "Running GPT model\n",
      "Running LLaMA model\n"
     ]
    }
   ],
   "source": [
    "# 2️⃣ Polymorphism with Classes\n",
    "class Model:\n",
    "    def run(self):\n",
    "        print(\"Running base model\")\n",
    "\n",
    "class GPTModel(Model):\n",
    "    def run(self):\n",
    "        print(\"Running GPT model\")\n",
    "\n",
    "class LlamaModel(Model):\n",
    "    def run(self):\n",
    "        print(\"Running LLaMA model\")\n",
    "\n",
    "models = [GPTModel(), LlamaModel()]\n",
    "\n",
    "for m in models:\n",
    "    m.run()  # Common interface `run()` used\n",
    "\n"
   ]
  },
  {
   "cell_type": "code",
   "execution_count": 3,
   "id": "2b79b7b2",
   "metadata": {},
   "outputs": [
    {
     "name": "stdout",
     "output_type": "stream",
     "text": [
      "Retrieving documents\n",
      "Summarizing content\n"
     ]
    }
   ],
   "source": [
    "# 3️⃣ Duck Typing\n",
    "# If it walks like a duck and quacks like a duck, it's a duck\n",
    "class Retriever:\n",
    "    def fetch(self):\n",
    "        print(\"Retrieving documents\")\n",
    "\n",
    "class Summarizer:\n",
    "    def fetch(self):\n",
    "        print(\"Summarizing content\")\n",
    "\n",
    "def use_tool(tool):\n",
    "    tool.fetch()  # No type check, just assumes method exists\n",
    "\n",
    "use_tool(Retriever())\n",
    "use_tool(Summarizer())\n"
   ]
  },
  {
   "cell_type": "code",
   "execution_count": 4,
   "id": "b0f46791",
   "metadata": {},
   "outputs": [
    {
     "name": "stdout",
     "output_type": "stream",
     "text": [
      "5\n",
      "banana\n",
      "7\n",
      "Executing search task\n",
      "Executing summarize task\n",
      "Executing code generation task\n"
     ]
    }
   ],
   "source": [
    "# 4️⃣ Built-in Polymorphic Functions\n",
    "print(max(3, 5))              # Numbers\n",
    "print(max(\"apple\", \"banana\")) # Strings\n",
    "print(max([4, 7, 1]))         # List elements\n",
    "\n",
    "\n",
    "# 5️⃣ GenAI Use Case — Unified Interfaces for Tools\n",
    "class Tool:\n",
    "    def execute(self):\n",
    "        raise NotImplementedError(\"Subclass must implement execute\")\n",
    "\n",
    "class SearchTool(Tool):\n",
    "    def execute(self):\n",
    "        print(\"Executing search task\")\n",
    "\n",
    "class SummarizeTool(Tool):\n",
    "    def execute(self):\n",
    "        print(\"Executing summarize task\")\n",
    "\n",
    "class CodeGenTool(Tool):\n",
    "    def execute(self):\n",
    "        print(\"Executing code generation task\")\n",
    "\n",
    "pipeline = [SearchTool(), SummarizeTool(), CodeGenTool()]\n",
    "for step in pipeline:\n",
    "    step.execute()  # Unified interface: `execute()`"
   ]
  }
 ],
 "metadata": {
  "kernelspec": {
   "display_name": "base",
   "language": "python",
   "name": "python3"
  },
  "language_info": {
   "codemirror_mode": {
    "name": "ipython",
    "version": 3
   },
   "file_extension": ".py",
   "mimetype": "text/x-python",
   "name": "python",
   "nbconvert_exporter": "python",
   "pygments_lexer": "ipython3",
   "version": "3.12.7"
  }
 },
 "nbformat": 4,
 "nbformat_minor": 5
}

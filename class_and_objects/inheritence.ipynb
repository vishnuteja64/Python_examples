{
 "cells": [
  {
   "cell_type": "markdown",
   "id": "b7fc1a2e",
   "metadata": {},
   "source": [
    "Inheritance in Python\n",
    "-------------------------\n",
    "Inheritance allows a class (child) to inherit attributes and methods from another class (parent).\n",
    "Useful for modeling agent hierarchies, base templates, and specialized tasks in GenAI systems.\n",
    "\n",
    "✅ Topics Covered:\n",
    "1. Single Inheritance\n",
    "   - One class inherits from another.\n",
    "   - Reuse functionality without redefining.\n",
    "2. Method Overriding\n",
    "   - A child class redefines a method from the parent.\n",
    "   - Used to customize behavior.\n",
    "3. Using super()\n",
    "   - Calls the parent class's method or constructor.\n",
    "   - Useful to build on parent logic.\n",
    "4. Multi-level Inheritance\n",
    "   - A → B → C; class C inherits from B, which inherits from A.\n",
    "   - Enables layered behavior.\n",
    "5. GenAI Use Cases\n",
    "   - Specializing agent pipelines, tools, memory."
   ]
  },
  {
   "cell_type": "code",
   "execution_count": 3,
   "id": "779c0497",
   "metadata": {},
   "outputs": [
    {
     "name": "stdout",
     "output_type": "stream",
     "text": [
      "I am a base agent\n",
      "Tool in use\n",
      "Reading sensor data\n"
     ]
    }
   ],
   "source": [
    "# 1️⃣ Single Inheritance Example 1\n",
    "class Agent:\n",
    "    def identify(self):\n",
    "        print(\"I am a base agent\")  # Parent method\n",
    "\n",
    "class ChatAgent(Agent):  # Inheriting from Agent\n",
    "    pass  # Inherits identify() as is\n",
    "\n",
    "c = ChatAgent()  # Child object\n",
    "c.identify()  # Uses method from parent\n",
    "\n",
    "# Example 2\n",
    "class Tool:\n",
    "    def use(self):\n",
    "        print(\"Tool in use\")\n",
    "\n",
    "class Translator(Tool):\n",
    "    pass\n",
    "\n",
    "Translator().use()  # Inherited method called\n",
    "\n",
    "# Example 3\n",
    "class Sensor:\n",
    "    def read(self):\n",
    "        print(\"Reading sensor data\")\n",
    "\n",
    "class TemperatureSensor(Sensor):\n",
    "    pass\n",
    "\n",
    "TemperatureSensor().read()\n"
   ]
  },
  {
   "cell_type": "code",
   "execution_count": 4,
   "id": "0febf08b",
   "metadata": {},
   "outputs": [
    {
     "name": "stdout",
     "output_type": "stream",
     "text": [
      "LLM generating text\n"
     ]
    }
   ],
   "source": [
    "# 2️⃣ Method Overriding\n",
    "# Example 1\n",
    "class Model:\n",
    "    def run(self):\n",
    "        print(\"Base model running\")\n",
    "\n",
    "class LLM(Model):\n",
    "    def run(self):  # Overrides parent's run()\n",
    "        print(\"LLM generating text\")\n",
    "\n",
    "LLM().run()"
   ]
  },
  {
   "cell_type": "code",
   "execution_count": 5,
   "id": "c98ace70",
   "metadata": {},
   "outputs": [
    {
     "name": "stdout",
     "output_type": "stream",
     "text": [
      "Accuracy score: 92%\n",
      "Loading long-term memory\n"
     ]
    }
   ],
   "source": [
    " #Example 2\n",
    "class Evaluator:\n",
    "    def evaluate(self):\n",
    "        print(\"Base evaluation\")\n",
    "\n",
    "class AccuracyEvaluator(Evaluator):\n",
    "    def evaluate(self):  # Custom evaluation\n",
    "        print(\"Accuracy score: 92%\")\n",
    "\n",
    "AccuracyEvaluator().evaluate()\n",
    "\n",
    "# Example 3\n",
    "class Memory:\n",
    "    def load(self):\n",
    "        print(\"Default memory load\")\n",
    "\n",
    "class LongTermMemory(Memory):\n",
    "    def load(self):\n",
    "        print(\"Loading long-term memory\")\n",
    "\n",
    "LongTermMemory().load()"
   ]
  },
  {
   "cell_type": "code",
   "execution_count": 6,
   "id": "9ed3ab6f",
   "metadata": {},
   "outputs": [
    {
     "name": "stdout",
     "output_type": "stream",
     "text": [
      "Task created\n",
      "Assigned to Agent007\n"
     ]
    },
    {
     "data": {
      "text/plain": [
       "<__main__.AgentTask at 0x212c916ffb0>"
      ]
     },
     "execution_count": 6,
     "metadata": {},
     "output_type": "execute_result"
    }
   ],
   "source": [
    "# Example 1\n",
    "class Task:\n",
    "    def __init__(self, title):\n",
    "        self.title = title\n",
    "        print(\"Task created\")\n",
    "\n",
    "class AgentTask(Task):\n",
    "    def __init__(self, title, assigned_to):\n",
    "        super().__init__(title)  # Calls parent constructor\n",
    "        self.assigned_to = assigned_to\n",
    "        print(f\"Assigned to {self.assigned_to}\")\n",
    "\n",
    "AgentTask(\"Summarize report\", \"Agent007\")\n"
   ]
  },
  {
   "cell_type": "code",
   "execution_count": 7,
   "id": "67702d12",
   "metadata": {},
   "outputs": [
    {
     "name": "stdout",
     "output_type": "stream",
     "text": [
      "Logger started\n",
      "Logging to log.txt\n",
      "Base init\n",
      "Derived init\n"
     ]
    },
    {
     "data": {
      "text/plain": [
       "<__main__.Derived at 0x212c916dc40>"
      ]
     },
     "execution_count": 7,
     "metadata": {},
     "output_type": "execute_result"
    }
   ],
   "source": [
    "# Example 2\n",
    "class Logger:\n",
    "    def __init__(self):\n",
    "        print(\"Logger started\")\n",
    "\n",
    "class FileLogger(Logger):\n",
    "    def __init__(self, file):\n",
    "        super().__init__()  # Calls Logger constructor\n",
    "        print(f\"Logging to {file}\")\n",
    "\n",
    "FileLogger(\"log.txt\")\n",
    "\n",
    "# Example 3\n",
    "class Base:\n",
    "    def __init__(self):\n",
    "        print(\"Base init\")\n",
    "\n",
    "class Derived(Base):\n",
    "    def __init__(self):\n",
    "        super().__init__()  # Base constructor\n",
    "        print(\"Derived init\")\n",
    "\n",
    "Derived()"
   ]
  },
  {
   "cell_type": "code",
   "execution_count": 8,
   "id": "a6678dfb",
   "metadata": {},
   "outputs": [
    {
     "name": "stdout",
     "output_type": "stream",
     "text": [
      "Ping from A\n",
      "Pong from B\n"
     ]
    }
   ],
   "source": [
    "# 4️⃣ Multi-level Inheritance\n",
    "# Example 1\n",
    "class A:\n",
    "    def ping(self):\n",
    "        print(\"Ping from A\")\n",
    "\n",
    "class B(A):\n",
    "    def pong(self):\n",
    "        print(\"Pong from B\")\n",
    "\n",
    "class C(B):\n",
    "    def show(self):\n",
    "        self.ping()  # A's method\n",
    "        self.pong()  # B's method\n",
    "\n",
    "C().show()"
   ]
  },
  {
   "cell_type": "code",
   "execution_count": 9,
   "id": "ab41b002",
   "metadata": {},
   "outputs": [
    {
     "name": "stdout",
     "output_type": "stream",
     "text": [
      "Log from leaf\n",
      "Log from mid\n",
      "Log from root\n"
     ]
    }
   ],
   "source": [
    "# Example 3\n",
    "class Root:\n",
    "    def root_log(self):\n",
    "        print(\"Log from root\")\n",
    "\n",
    "class Mid(Root):\n",
    "    def mid_log(self):\n",
    "        print(\"Log from mid\")\n",
    "\n",
    "class Leaf(Mid):\n",
    "    def leaf_log(self):\n",
    "        print(\"Log from leaf\")\n",
    "\n",
    "Leaf().leaf_log()  # Own method\n",
    "Leaf().mid_log()   # Parent\n",
    "Leaf().root_log()  # Grandparent"
   ]
  },
  {
   "cell_type": "code",
   "execution_count": 10,
   "id": "89965490",
   "metadata": {},
   "outputs": [
    {
     "name": "stdout",
     "output_type": "stream",
     "text": [
      "Running search pipeline\n",
      "Running conversational pipeline\n"
     ]
    }
   ],
   "source": [
    "# 5️⃣ GenAI Inheritance Use Cases\n",
    "# Example 1: Specialized Agents\n",
    "class BaseAgent:\n",
    "    def run(self):\n",
    "        print(\"Running base agent logic\")\n",
    "\n",
    "class SearchAgent(BaseAgent):\n",
    "    def run(self):\n",
    "        print(\"Running search pipeline\")\n",
    "\n",
    "class ChatAgent(BaseAgent):\n",
    "    def run(self):\n",
    "        print(\"Running conversational pipeline\")\n",
    "\n",
    "SearchAgent().run()\n",
    "ChatAgent().run()"
   ]
  },
  {
   "cell_type": "code",
   "execution_count": 11,
   "id": "da8eb070",
   "metadata": {},
   "outputs": [
    {
     "name": "stdout",
     "output_type": "stream",
     "text": [
      "Uploading memory to cloud\n"
     ]
    }
   ],
   "source": [
    "# Example 3: Agent Memory\n",
    "class AgentMemory:\n",
    "    def save(self):\n",
    "        print(\"Saving memory to disk\")\n",
    "\n",
    "class CloudMemory(AgentMemory):\n",
    "    def save(self):\n",
    "        print(\"Uploading memory to cloud\")\n",
    "\n",
    "CloudMemory().save()"
   ]
  }
 ],
 "metadata": {
  "kernelspec": {
   "display_name": "base",
   "language": "python",
   "name": "python3"
  },
  "language_info": {
   "codemirror_mode": {
    "name": "ipython",
    "version": 3
   },
   "file_extension": ".py",
   "mimetype": "text/x-python",
   "name": "python",
   "nbconvert_exporter": "python",
   "pygments_lexer": "ipython3",
   "version": "3.12.7"
  }
 },
 "nbformat": 4,
 "nbformat_minor": 5
}

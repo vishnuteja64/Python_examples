{
 "cells": [
  {
   "cell_type": "markdown",
   "id": "5088f0c9",
   "metadata": {},
   "source": [
    "classes_objects\n",
    "Object-Oriented Programming: Classes and Objects\n",
    "--------------------------------------------------\n",
    "Classes in Python provide a blueprint for creating objects, enabling modular, reusable code.\n",
    "They are ideal for agent design, tasks, tools, and memory management in GenAI systems.\n",
    "\n",
    "✅ Topics Covered:\n",
    "1. Defining and instantiating classes \n",
    "2. Instance attributes and methods \n",
    "3. The __init__ constructor \n",
    "4. Special methods (e.g., __str__) \n"
   ]
  },
  {
   "cell_type": "code",
   "execution_count": 1,
   "id": "2005f848",
   "metadata": {},
   "outputs": [
    {
     "name": "stdout",
     "output_type": "stream",
     "text": [
      "Hello I am an agent.\n",
      "Hi there!\n",
      "count:0\n"
     ]
    }
   ],
   "source": [
    "# 1️⃣ Defining and Instantiating Classes\n",
    "class Agent:\n",
    "    def greet(self):\n",
    "        print(f\"Hello I am an agent.\")\n",
    "bot = Agent()\n",
    "bot.greet()\n",
    "\n",
    "class greeter:\n",
    "    def say_hi(self):\n",
    "        print(\"Hi there!\")\n",
    "\n",
    "bot2 = greeter()\n",
    "bot2.say_hi()\n",
    "\n",
    "class Counter:\n",
    "    def show(self):\n",
    "        print(\"count:0\")\n",
    "counter = Counter()\n",
    "counter.show()"
   ]
  },
  {
   "cell_type": "code",
   "execution_count": 2,
   "id": "2d73b231",
   "metadata": {},
   "outputs": [
    {
     "name": "stdout",
     "output_type": "stream",
     "text": [
      "User: Alice, Role: admin\n",
      "User: Bob, Role: moderator\n",
      "User: Charlie, Role: viewer\n"
     ]
    }
   ],
   "source": [
    "# 2️⃣ Instance Attributes and Methods\n",
    "class User:\n",
    "    def __init__(self, name, role):\n",
    "        self.name = name\n",
    "        self.role = role\n",
    "\n",
    "    def display(self):\n",
    "        print(f\"User: {self.name}, Role: {self.role}\")\n",
    "\n",
    "u1 = User(\"Alice\", \"admin\")\n",
    "u1.display()\n",
    "\n",
    "u2 = User(\"Bob\", \"moderator\")\n",
    "u2.display()\n",
    "\n",
    "u3 = User(\"Charlie\", \"viewer\")\n",
    "u3.display()\n"
   ]
  },
  {
   "cell_type": "code",
   "execution_count": 3,
   "id": "6847e2da",
   "metadata": {},
   "outputs": [
    {
     "name": "stdout",
     "output_type": "stream",
     "text": [
      "Task: Train model\n",
      "Task: Collect data\n",
      "Task: Test API\n"
     ]
    }
   ],
   "source": [
    "# 3️⃣ The __init__ Constructor\n",
    "class Task:\n",
    "    def __init__(self, title):\n",
    "        self.title = title\n",
    "\n",
    "    def show(self):\n",
    "        print(\"Task:\", self.title)\n",
    "\n",
    "Task(\"Train model\").show()\n",
    "Task(\"Collect data\").show()\n",
    "Task(\"Test API\").show()"
   ]
  },
  {
   "cell_type": "code",
   "execution_count": 4,
   "id": "79e3d75b",
   "metadata": {},
   "outputs": [
    {
     "name": "stdout",
     "output_type": "stream",
     "text": [
      "Model(name=GPT, version=4o)\n",
      "Model(name=Claude, version=3)\n",
      "Model(name=Gemini, version=1.5)\n"
     ]
    }
   ],
   "source": [
    "# 4️⃣ Special Methods (__str__)\n",
    "class Model:\n",
    "    def __init__(self, name, version):\n",
    "        self.name = name\n",
    "        self.version = version\n",
    "\n",
    "    def __str__(self):\n",
    "        return f\"Model(name={self.name}, version={self.version})\"\n",
    "\n",
    "print(Model(\"GPT\", \"4o\"))\n",
    "print(Model(\"Claude\", \"3\"))\n",
    "print(Model(\"Gemini\", \"1.5\"))"
   ]
  },
  {
   "cell_type": "code",
   "execution_count": 5,
   "id": "69018527",
   "metadata": {},
   "outputs": [
    {
     "name": "stdout",
     "output_type": "stream",
     "text": [
      "Agent ID: agent_01, Tools: search, summarizer\n",
      "Agent ID: agent_02, Tools: retrieval, code_gen\n",
      "Agent ID: agent_03, Tools: translator\n"
     ]
    }
   ],
   "source": [
    "# 5️⃣ Use Cases for GenAI Agents\n",
    "class GenAgent:\n",
    "    def __init__(self, agent_id, tools):\n",
    "        self.agent_id = agent_id\n",
    "        self.tools = tools\n",
    "\n",
    "    def describe(self):\n",
    "        print(f\"Agent ID: {self.agent_id}, Tools: {', '.join(self.tools)}\")\n",
    "\n",
    "agent1 = GenAgent(\"agent_01\", [\"search\", \"summarizer\"])\n",
    "agent2 = GenAgent(\"agent_02\", [\"retrieval\", \"code_gen\"])\n",
    "agent3 = GenAgent(\"agent_03\", [\"translator\"])\n",
    "\n",
    "agent1.describe()\n",
    "agent2.describe()\n",
    "agent3.describe()"
   ]
  },
  {
   "cell_type": "code",
   "execution_count": null,
   "id": "11cc90a1",
   "metadata": {},
   "outputs": [
    {
     "name": "stdout",
     "output_type": "stream",
     "text": [
      "Running load\n",
      "Running preprocess\n",
      "Running infer\n"
     ]
    }
   ],
   "source": [
    "# ✅ Method chaining \n",
    "class Pipeline:\n",
    "    def __init__(self):\n",
    "        self.steps = []\n",
    "\n",
    "    def add(self, step):\n",
    "        self.steps.append(step)\n",
    "        return self\n",
    "\n",
    "    def run(self):\n",
    "        for step in self.steps:\n",
    "            print(f\"Running {step}\")\n",
    "\n",
    "Pipeline().add(\"load\").add(\"preprocess\").add(\"infer\").run()\n",
    "\n",
    "\n"
   ]
  },
  {
   "cell_type": "code",
   "execution_count": null,
   "id": "e8c39f16",
   "metadata": {},
   "outputs": [
    {
     "name": "stdout",
     "output_type": "stream",
     "text": [
      "Config 1: model=gpt-4o, temp=0.7\n",
      "Config 2: model=llama3, temp=0.3\n",
      "✅ Class & Object basics completed.\n"
     ]
    }
   ],
   "source": [
    "#Config with Type Hinting\n",
    "class Config:\n",
    "    def __init__(self, model: str, temperature: float = 0.7):\n",
    "        self.model = model\n",
    "        self.temperature = temperature\n",
    "\n",
    "cfg1 = Config(\"gpt-4o\")\n",
    "cfg2 = Config(\"llama3\", 0.3)\n",
    "\n",
    "print(f\"Config 1: model={cfg1.model}, temp={cfg1.temperature}\")\n",
    "print(f\"Config 2: model={cfg2.model}, temp={cfg2.temperature}\")\n",
    "\n"
   ]
  }
 ],
 "metadata": {
  "kernelspec": {
   "display_name": "base",
   "language": "python",
   "name": "python3"
  },
  "language_info": {
   "codemirror_mode": {
    "name": "ipython",
    "version": 3
   },
   "file_extension": ".py",
   "mimetype": "text/x-python",
   "name": "python",
   "nbconvert_exporter": "python",
   "pygments_lexer": "ipython3",
   "version": "3.12.7"
  }
 },
 "nbformat": 4,
 "nbformat_minor": 5
}

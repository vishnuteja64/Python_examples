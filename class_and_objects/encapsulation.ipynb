{
 "cells": [
  {
   "cell_type": "markdown",
   "id": "253f67ff",
   "metadata": {},
   "source": [
    "Encapsulation in Python\n",
    "---------------------------\n",
    "Encapsulation is the concept of restricting access to internal variables and methods of a class.\n",
    "This protects data from unintended interference and helps maintain a clean interface.\n",
    "In Python, encapsulation is implemented using access modifiers:\n",
    "\n",
    "✅ Topics Covered:\n",
    "1. Public, Protected, Private members\n",
    "2. Getter and Setter methods\n",
    "3. Using property decorators\n",
    "4. Encapsulation in Agent State Management\n",
    "\"\"\""
   ]
  },
  {
   "cell_type": "code",
   "execution_count": 1,
   "id": "122d84f7",
   "metadata": {},
   "outputs": [
    {
     "name": "stdout",
     "output_type": "stream",
     "text": [
      "AgentX\n",
      "Idle\n",
      "Hidden\n"
     ]
    }
   ],
   "source": [
    "# 1️⃣ Public, Protected, Private Members\n",
    "class Agent:\n",
    "    def __init__(self):\n",
    "        self.name = \"AgentX\"       # Public attribute\n",
    "        self._status = \"Idle\"      # Protected attribute (convention)\n",
    "        self.__secret = \"Hidden\"   # Private attribute (name mangling)\n",
    "\n",
    "agent = Agent()\n",
    "print(agent.name)        # ✅ Public access allowed\n",
    "print(agent._status)     # ⚠️ Conventionally protected, but still accessible\n",
    "# print(agent.__secret)  # ❌ Would raise AttributeError\n",
    "print(agent._Agent__secret)  # ✅ Name mangling allows access\n"
   ]
  },
  {
   "cell_type": "code",
   "execution_count": 2,
   "id": "98d48285",
   "metadata": {},
   "outputs": [
    {
     "name": "stdout",
     "output_type": "stream",
     "text": [
      "0\n",
      "75\n"
     ]
    }
   ],
   "source": [
    "# 2️⃣ Getter and Setter Methods (Manual Encapsulation)\n",
    "class Task:\n",
    "    def __init__(self):\n",
    "        self.__progress = 0  # private variable\n",
    "\n",
    "    def get_progress(self):\n",
    "        return self.__progress\n",
    "\n",
    "    def set_progress(self, value):\n",
    "        if 0 <= value <= 100:\n",
    "            self.__progress = value\n",
    "        else:\n",
    "            print(\"Invalid progress value\")\n",
    "\n",
    "work = Task()\n",
    "print(work.get_progress())  # get progress\n",
    "work.set_progress(75)       # set progress safely\n",
    "print(work.get_progress())\n"
   ]
  },
  {
   "cell_type": "code",
   "execution_count": 3,
   "id": "c2edb327",
   "metadata": {},
   "outputs": [
    {
     "name": "stdout",
     "output_type": "stream",
     "text": [
      "sleep\n",
      "active\n"
     ]
    }
   ],
   "source": [
    "# 3️⃣ Using @property Decorators for Encapsulation\n",
    "class AgentState:\n",
    "    def __init__(self):\n",
    "        self.__state = \"sleep\"\n",
    "\n",
    "    @property\n",
    "    def state(self):\n",
    "        return self.__state\n",
    "\n",
    "    @state.setter\n",
    "    def state(self, val):\n",
    "        if val in [\"sleep\", \"awake\", \"active\"]:\n",
    "            self.__state = val\n",
    "        else:\n",
    "            raise ValueError(\"Invalid state\")\n",
    "\n",
    "agent = AgentState()\n",
    "print(agent.state)     # Getter\n",
    "agent.state = \"active\"  # Setter\n",
    "print(agent.state)"
   ]
  },
  {
   "cell_type": "code",
   "execution_count": 4,
   "id": "643b393c",
   "metadata": {},
   "outputs": [
    {
     "name": "stdout",
     "output_type": "stream",
     "text": [
      "['search', 'summarize']\n",
      "agent-123\n"
     ]
    }
   ],
   "source": [
    "# 4️⃣ Encapsulation in Agent Use Case\n",
    "class GenAIAgent:\n",
    "    def __init__(self, id):\n",
    "        self.__id = id  # private ID\n",
    "        self._logs = []  # protected log\n",
    "\n",
    "    def log_action(self, action):\n",
    "        self._logs.append(action)\n",
    "\n",
    "    def get_logs(self):\n",
    "        return self._logs\n",
    "\n",
    "    def get_id(self):\n",
    "        return self.__id\n",
    "\n",
    "agent = GenAIAgent(\"agent-123\")\n",
    "agent.log_action(\"search\")\n",
    "agent.log_action(\"summarize\")\n",
    "print(agent.get_logs())\n",
    "print(agent.get_id())"
   ]
  }
 ],
 "metadata": {
  "kernelspec": {
   "display_name": "base",
   "language": "python",
   "name": "python3"
  },
  "language_info": {
   "codemirror_mode": {
    "name": "ipython",
    "version": 3
   },
   "file_extension": ".py",
   "mimetype": "text/x-python",
   "name": "python",
   "nbconvert_exporter": "python",
   "pygments_lexer": "ipython3",
   "version": "3.12.7"
  }
 },
 "nbformat": 4,
 "nbformat_minor": 5
}
